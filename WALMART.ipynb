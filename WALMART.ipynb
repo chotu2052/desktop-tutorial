{
 "cells": [
  {
   "cell_type": "code",
   "execution_count": 1,
   "id": "0127a47c",
   "metadata": {},
   "outputs": [],
   "source": [
    "import pandas as pd\n",
    "import matplotlib.pyplot as plt\n",
    "import seaborn as sns\n",
    "import numpy as np"
   ]
  },
  {
   "cell_type": "markdown",
   "id": "f12e5644",
   "metadata": {},
   "source": [
    "Import the required libraries"
   ]
  },
  {
   "cell_type": "code",
   "execution_count": null,
   "id": "454bbd66",
   "metadata": {},
   "outputs": [],
   "source": [
    "# LoadING the dataset:"
   ]
  },
  {
   "cell_type": "code",
   "execution_count": 2,
   "id": "8a52060c",
   "metadata": {},
   "outputs": [],
   "source": [
    "df=pd.read_csv(\"C:\\walmart.txt\")"
   ]
  },
  {
   "cell_type": "code",
   "execution_count": null,
   "id": "7225c11e",
   "metadata": {},
   "outputs": [],
   "source": [
    "# Exploreing the dataset:"
   ]
  },
  {
   "cell_type": "code",
   "execution_count": 3,
   "id": "4e909bb0",
   "metadata": {},
   "outputs": [
    {
     "data": {
      "text/html": [
       "<div>\n",
       "<style scoped>\n",
       "    .dataframe tbody tr th:only-of-type {\n",
       "        vertical-align: middle;\n",
       "    }\n",
       "\n",
       "    .dataframe tbody tr th {\n",
       "        vertical-align: top;\n",
       "    }\n",
       "\n",
       "    .dataframe thead th {\n",
       "        text-align: right;\n",
       "    }\n",
       "</style>\n",
       "<table border=\"1\" class=\"dataframe\">\n",
       "  <thead>\n",
       "    <tr style=\"text-align: right;\">\n",
       "      <th></th>\n",
       "      <th>User_ID</th>\n",
       "      <th>Product_ID</th>\n",
       "      <th>Gender</th>\n",
       "      <th>Age</th>\n",
       "      <th>Occupation</th>\n",
       "      <th>City_Category</th>\n",
       "      <th>Stay_In_Current_City_Years</th>\n",
       "      <th>Marital_Status</th>\n",
       "      <th>Product_Category</th>\n",
       "      <th>Purchase</th>\n",
       "    </tr>\n",
       "  </thead>\n",
       "  <tbody>\n",
       "    <tr>\n",
       "      <th>0</th>\n",
       "      <td>1000001</td>\n",
       "      <td>P00069042</td>\n",
       "      <td>F</td>\n",
       "      <td>0-17</td>\n",
       "      <td>10</td>\n",
       "      <td>A</td>\n",
       "      <td>2</td>\n",
       "      <td>0</td>\n",
       "      <td>3</td>\n",
       "      <td>8370</td>\n",
       "    </tr>\n",
       "    <tr>\n",
       "      <th>1</th>\n",
       "      <td>1000001</td>\n",
       "      <td>P00248942</td>\n",
       "      <td>F</td>\n",
       "      <td>0-17</td>\n",
       "      <td>10</td>\n",
       "      <td>A</td>\n",
       "      <td>2</td>\n",
       "      <td>0</td>\n",
       "      <td>1</td>\n",
       "      <td>15200</td>\n",
       "    </tr>\n",
       "    <tr>\n",
       "      <th>2</th>\n",
       "      <td>1000001</td>\n",
       "      <td>P00087842</td>\n",
       "      <td>F</td>\n",
       "      <td>0-17</td>\n",
       "      <td>10</td>\n",
       "      <td>A</td>\n",
       "      <td>2</td>\n",
       "      <td>0</td>\n",
       "      <td>12</td>\n",
       "      <td>1422</td>\n",
       "    </tr>\n",
       "    <tr>\n",
       "      <th>3</th>\n",
       "      <td>1000001</td>\n",
       "      <td>P00085442</td>\n",
       "      <td>F</td>\n",
       "      <td>0-17</td>\n",
       "      <td>10</td>\n",
       "      <td>A</td>\n",
       "      <td>2</td>\n",
       "      <td>0</td>\n",
       "      <td>12</td>\n",
       "      <td>1057</td>\n",
       "    </tr>\n",
       "    <tr>\n",
       "      <th>4</th>\n",
       "      <td>1000002</td>\n",
       "      <td>P00285442</td>\n",
       "      <td>M</td>\n",
       "      <td>55+</td>\n",
       "      <td>16</td>\n",
       "      <td>C</td>\n",
       "      <td>4+</td>\n",
       "      <td>0</td>\n",
       "      <td>8</td>\n",
       "      <td>7969</td>\n",
       "    </tr>\n",
       "    <tr>\n",
       "      <th>5</th>\n",
       "      <td>1000003</td>\n",
       "      <td>P00193542</td>\n",
       "      <td>M</td>\n",
       "      <td>26-35</td>\n",
       "      <td>15</td>\n",
       "      <td>A</td>\n",
       "      <td>3</td>\n",
       "      <td>0</td>\n",
       "      <td>1</td>\n",
       "      <td>15227</td>\n",
       "    </tr>\n",
       "    <tr>\n",
       "      <th>6</th>\n",
       "      <td>1000004</td>\n",
       "      <td>P00184942</td>\n",
       "      <td>M</td>\n",
       "      <td>46-50</td>\n",
       "      <td>7</td>\n",
       "      <td>B</td>\n",
       "      <td>2</td>\n",
       "      <td>1</td>\n",
       "      <td>1</td>\n",
       "      <td>19215</td>\n",
       "    </tr>\n",
       "    <tr>\n",
       "      <th>7</th>\n",
       "      <td>1000004</td>\n",
       "      <td>P00346142</td>\n",
       "      <td>M</td>\n",
       "      <td>46-50</td>\n",
       "      <td>7</td>\n",
       "      <td>B</td>\n",
       "      <td>2</td>\n",
       "      <td>1</td>\n",
       "      <td>1</td>\n",
       "      <td>15854</td>\n",
       "    </tr>\n",
       "    <tr>\n",
       "      <th>8</th>\n",
       "      <td>1000004</td>\n",
       "      <td>P0097242</td>\n",
       "      <td>M</td>\n",
       "      <td>46-50</td>\n",
       "      <td>7</td>\n",
       "      <td>B</td>\n",
       "      <td>2</td>\n",
       "      <td>1</td>\n",
       "      <td>1</td>\n",
       "      <td>15686</td>\n",
       "    </tr>\n",
       "    <tr>\n",
       "      <th>9</th>\n",
       "      <td>1000005</td>\n",
       "      <td>P00274942</td>\n",
       "      <td>M</td>\n",
       "      <td>26-35</td>\n",
       "      <td>20</td>\n",
       "      <td>A</td>\n",
       "      <td>1</td>\n",
       "      <td>1</td>\n",
       "      <td>8</td>\n",
       "      <td>7871</td>\n",
       "    </tr>\n",
       "  </tbody>\n",
       "</table>\n",
       "</div>"
      ],
      "text/plain": [
       "   User_ID Product_ID Gender    Age  Occupation City_Category  \\\n",
       "0  1000001  P00069042      F   0-17          10             A   \n",
       "1  1000001  P00248942      F   0-17          10             A   \n",
       "2  1000001  P00087842      F   0-17          10             A   \n",
       "3  1000001  P00085442      F   0-17          10             A   \n",
       "4  1000002  P00285442      M    55+          16             C   \n",
       "5  1000003  P00193542      M  26-35          15             A   \n",
       "6  1000004  P00184942      M  46-50           7             B   \n",
       "7  1000004  P00346142      M  46-50           7             B   \n",
       "8  1000004   P0097242      M  46-50           7             B   \n",
       "9  1000005  P00274942      M  26-35          20             A   \n",
       "\n",
       "  Stay_In_Current_City_Years  Marital_Status  Product_Category  Purchase  \n",
       "0                          2               0                 3      8370  \n",
       "1                          2               0                 1     15200  \n",
       "2                          2               0                12      1422  \n",
       "3                          2               0                12      1057  \n",
       "4                         4+               0                 8      7969  \n",
       "5                          3               0                 1     15227  \n",
       "6                          2               1                 1     19215  \n",
       "7                          2               1                 1     15854  \n",
       "8                          2               1                 1     15686  \n",
       "9                          1               1                 8      7871  "
      ]
     },
     "execution_count": 3,
     "metadata": {},
     "output_type": "execute_result"
    }
   ],
   "source": [
    "df.head(10)"
   ]
  },
  {
   "cell_type": "code",
   "execution_count": 4,
   "id": "67df713c",
   "metadata": {},
   "outputs": [
    {
     "data": {
      "text/plain": [
       "((550068, 10),\n",
       " User_ID                        int64\n",
       " Product_ID                    object\n",
       " Gender                        object\n",
       " Age                           object\n",
       " Occupation                     int64\n",
       " City_Category                 object\n",
       " Stay_In_Current_City_Years    object\n",
       " Marital_Status                 int64\n",
       " Product_Category               int64\n",
       " Purchase                       int64\n",
       " dtype: object)"
      ]
     },
     "execution_count": 4,
     "metadata": {},
     "output_type": "execute_result"
    }
   ],
   "source": [
    "df.shape,df.dtypes"
   ]
  },
  {
   "cell_type": "code",
   "execution_count": 5,
   "id": "4aa7c449",
   "metadata": {},
   "outputs": [
    {
     "data": {
      "text/plain": [
       "User_ID                        5891\n",
       "Product_ID                     3631\n",
       "Gender                            2\n",
       "Age                               7\n",
       "Occupation                       21\n",
       "City_Category                     3\n",
       "Stay_In_Current_City_Years        5\n",
       "Marital_Status                    2\n",
       "Product_Category                 20\n",
       "Purchase                      18105\n",
       "dtype: int64"
      ]
     },
     "execution_count": 5,
     "metadata": {},
     "output_type": "execute_result"
    }
   ],
   "source": [
    "df.nunique()"
   ]
  },
  {
   "cell_type": "code",
   "execution_count": 6,
   "id": "2775ac15",
   "metadata": {},
   "outputs": [
    {
     "data": {
      "text/plain": [
       "User_ID                       0\n",
       "Product_ID                    0\n",
       "Gender                        0\n",
       "Age                           0\n",
       "Occupation                    0\n",
       "City_Category                 0\n",
       "Stay_In_Current_City_Years    0\n",
       "Marital_Status                0\n",
       "Product_Category              0\n",
       "Purchase                      0\n",
       "dtype: int64"
      ]
     },
     "execution_count": 6,
     "metadata": {},
     "output_type": "execute_result"
    }
   ],
   "source": [
    "df.isnull().sum()"
   ]
  },
  {
   "cell_type": "markdown",
   "id": "64d8d9ed",
   "metadata": {},
   "source": [
    "# Performing visual analysis (univariate and bivariate):"
   ]
  },
  {
   "cell_type": "code",
   "execution_count": 7,
   "id": "84560afe",
   "metadata": {},
   "outputs": [
    {
     "data": {
      "image/png": "[encoded data removed]",
      "text/plain": [
       "<Figure size 640x480 with 1 Axes>"
      ]
     },
     "metadata": {},
     "output_type": "display_data"
    }
   ],
   "source": [
    "sns.boxplot(x=df.Purchase)\n",
    "plt.show()"
   ]
  },
  {
   "cell_type": "markdown",
   "id": "0ed567c4",
   "metadata": {},
   "source": [
    "# \"Difference between mean and median\""
   ]
  },
  {
   "cell_type": "code",
   "execution_count": 8,
   "id": "3f3c4371",
   "metadata": {},
   "outputs": [
    {
     "data": {
      "text/plain": [
       "1216.9687129591257"
      ]
     },
     "execution_count": 8,
     "metadata": {},
     "output_type": "execute_result"
    }
   ],
   "source": [
    "df.Purchase.mean()-df.Purchase.median()"
   ]
  },
  {
   "cell_type": "code",
   "execution_count": 9,
   "id": "77916ca6",
   "metadata": {},
   "outputs": [
    {
     "data": {
      "text/plain": [
       "8734.565765155476"
      ]
     },
     "execution_count": 9,
     "metadata": {},
     "output_type": "execute_result"
    }
   ],
   "source": [
    "average_female_expenses=df[df['Gender'] == 'F']['Purchase'].mean()\n",
    "average_female_expenses"
   ]
  },
  {
   "cell_type": "code",
   "execution_count": 10,
   "id": "0526163f",
   "metadata": {},
   "outputs": [
    {
     "data": {
      "text/plain": [
       "9437.526040472265"
      ]
     },
     "execution_count": 10,
     "metadata": {},
     "output_type": "execute_result"
    }
   ],
   "source": [
    "average_male_expenses=df[df[\"Gender\"] == \"M\"][\"Purchase\"].mean()\n",
    "average_male_expenses"
   ]
  },
  {
   "cell_type": "code",
   "execution_count": 11,
   "id": "d86b344d",
   "metadata": {},
   "outputs": [
    {
     "name": "stdout",
     "output_type": "stream",
     "text": [
      "Male spend more than women\n"
     ]
    }
   ],
   "source": [
    "if average_male_expenses>average_female_expenses:\n",
    "    print(\"Male spend more than women\")\n",
    "else:\n",
    "    print(\"Women spend more than man\")"
   ]
  },
  {
   "cell_type": "markdown",
   "id": "084ad6aa",
   "metadata": {},
   "source": [
    "# sample size and desired confidence level:"
   ]
  },
  {
   "cell_type": "code",
   "execution_count": 12,
   "id": "ed6f3df1",
   "metadata": {},
   "outputs": [],
   "source": [
    "sample_size=1000\n",
    "confidance_interval=0.95"
   ]
  },
  {
   "cell_type": "code",
   "execution_count": 13,
   "id": "cfe40a3f",
   "metadata": {},
   "outputs": [
    {
     "data": {
      "text/html": [
       "<div>\n",
       "<style scoped>\n",
       "    .dataframe tbody tr th:only-of-type {\n",
       "        vertical-align: middle;\n",
       "    }\n",
       "\n",
       "    .dataframe tbody tr th {\n",
       "        vertical-align: top;\n",
       "    }\n",
       "\n",
       "    .dataframe thead th {\n",
       "        text-align: right;\n",
       "    }\n",
       "</style>\n",
       "<table border=\"1\" class=\"dataframe\">\n",
       "  <thead>\n",
       "    <tr style=\"text-align: right;\">\n",
       "      <th></th>\n",
       "      <th>User_ID</th>\n",
       "      <th>Product_ID</th>\n",
       "      <th>Gender</th>\n",
       "      <th>Age</th>\n",
       "      <th>Occupation</th>\n",
       "      <th>City_Category</th>\n",
       "      <th>Stay_In_Current_City_Years</th>\n",
       "      <th>Marital_Status</th>\n",
       "      <th>Product_Category</th>\n",
       "      <th>Purchase</th>\n",
       "    </tr>\n",
       "  </thead>\n",
       "  <tbody>\n",
       "    <tr>\n",
       "      <th>291832</th>\n",
       "      <td>1003017</td>\n",
       "      <td>P00003242</td>\n",
       "      <td>F</td>\n",
       "      <td>36-45</td>\n",
       "      <td>9</td>\n",
       "      <td>B</td>\n",
       "      <td>1</td>\n",
       "      <td>0</td>\n",
       "      <td>8</td>\n",
       "      <td>7958</td>\n",
       "    </tr>\n",
       "    <tr>\n",
       "      <th>170662</th>\n",
       "      <td>1002309</td>\n",
       "      <td>P00027542</td>\n",
       "      <td>F</td>\n",
       "      <td>46-50</td>\n",
       "      <td>0</td>\n",
       "      <td>C</td>\n",
       "      <td>2</td>\n",
       "      <td>1</td>\n",
       "      <td>8</td>\n",
       "      <td>7902</td>\n",
       "    </tr>\n",
       "    <tr>\n",
       "      <th>409749</th>\n",
       "      <td>1003091</td>\n",
       "      <td>P00324442</td>\n",
       "      <td>F</td>\n",
       "      <td>26-35</td>\n",
       "      <td>0</td>\n",
       "      <td>C</td>\n",
       "      <td>1</td>\n",
       "      <td>1</td>\n",
       "      <td>11</td>\n",
       "      <td>5930</td>\n",
       "    </tr>\n",
       "    <tr>\n",
       "      <th>508399</th>\n",
       "      <td>1000305</td>\n",
       "      <td>P00123142</td>\n",
       "      <td>F</td>\n",
       "      <td>18-25</td>\n",
       "      <td>0</td>\n",
       "      <td>B</td>\n",
       "      <td>3</td>\n",
       "      <td>1</td>\n",
       "      <td>11</td>\n",
       "      <td>4604</td>\n",
       "    </tr>\n",
       "    <tr>\n",
       "      <th>498141</th>\n",
       "      <td>1004674</td>\n",
       "      <td>P00110742</td>\n",
       "      <td>F</td>\n",
       "      <td>36-45</td>\n",
       "      <td>7</td>\n",
       "      <td>C</td>\n",
       "      <td>1</td>\n",
       "      <td>1</td>\n",
       "      <td>1</td>\n",
       "      <td>15365</td>\n",
       "    </tr>\n",
       "    <tr>\n",
       "      <th>...</th>\n",
       "      <td>...</td>\n",
       "      <td>...</td>\n",
       "      <td>...</td>\n",
       "      <td>...</td>\n",
       "      <td>...</td>\n",
       "      <td>...</td>\n",
       "      <td>...</td>\n",
       "      <td>...</td>\n",
       "      <td>...</td>\n",
       "      <td>...</td>\n",
       "    </tr>\n",
       "    <tr>\n",
       "      <th>220964</th>\n",
       "      <td>1004044</td>\n",
       "      <td>P00229342</td>\n",
       "      <td>F</td>\n",
       "      <td>36-45</td>\n",
       "      <td>3</td>\n",
       "      <td>B</td>\n",
       "      <td>1</td>\n",
       "      <td>0</td>\n",
       "      <td>5</td>\n",
       "      <td>6856</td>\n",
       "    </tr>\n",
       "    <tr>\n",
       "      <th>363546</th>\n",
       "      <td>1001938</td>\n",
       "      <td>P00030542</td>\n",
       "      <td>F</td>\n",
       "      <td>26-35</td>\n",
       "      <td>2</td>\n",
       "      <td>C</td>\n",
       "      <td>1</td>\n",
       "      <td>1</td>\n",
       "      <td>3</td>\n",
       "      <td>5345</td>\n",
       "    </tr>\n",
       "    <tr>\n",
       "      <th>254524</th>\n",
       "      <td>1003304</td>\n",
       "      <td>P00191642</td>\n",
       "      <td>F</td>\n",
       "      <td>46-50</td>\n",
       "      <td>5</td>\n",
       "      <td>B</td>\n",
       "      <td>1</td>\n",
       "      <td>1</td>\n",
       "      <td>3</td>\n",
       "      <td>13694</td>\n",
       "    </tr>\n",
       "    <tr>\n",
       "      <th>530909</th>\n",
       "      <td>1003770</td>\n",
       "      <td>P00119442</td>\n",
       "      <td>F</td>\n",
       "      <td>36-45</td>\n",
       "      <td>3</td>\n",
       "      <td>C</td>\n",
       "      <td>1</td>\n",
       "      <td>1</td>\n",
       "      <td>5</td>\n",
       "      <td>8801</td>\n",
       "    </tr>\n",
       "    <tr>\n",
       "      <th>44724</th>\n",
       "      <td>1000910</td>\n",
       "      <td>P00118542</td>\n",
       "      <td>F</td>\n",
       "      <td>51-55</td>\n",
       "      <td>0</td>\n",
       "      <td>B</td>\n",
       "      <td>1</td>\n",
       "      <td>1</td>\n",
       "      <td>5</td>\n",
       "      <td>7119</td>\n",
       "    </tr>\n",
       "  </tbody>\n",
       "</table>\n",
       "<p>1000 rows × 10 columns</p>\n",
       "</div>"
      ],
      "text/plain": [
       "        User_ID Product_ID Gender    Age  Occupation City_Category  \\\n",
       "291832  1003017  P00003242      F  36-45           9             B   \n",
       "170662  1002309  P00027542      F  46-50           0             C   \n",
       "409749  1003091  P00324442      F  26-35           0             C   \n",
       "508399  1000305  P00123142      F  18-25           0             B   \n",
       "498141  1004674  P00110742      F  36-45           7             C   \n",
       "...         ...        ...    ...    ...         ...           ...   \n",
       "220964  1004044  P00229342      F  36-45           3             B   \n",
       "363546  1001938  P00030542      F  26-35           2             C   \n",
       "254524  1003304  P00191642      F  46-50           5             B   \n",
       "530909  1003770  P00119442      F  36-45           3             C   \n",
       "44724   1000910  P00118542      F  51-55           0             B   \n",
       "\n",
       "       Stay_In_Current_City_Years  Marital_Status  Product_Category  Purchase  \n",
       "291832                          1               0                 8      7958  \n",
       "170662                          2               1                 8      7902  \n",
       "409749                          1               1                11      5930  \n",
       "508399                          3               1                11      4604  \n",
       "498141                          1               1                 1     15365  \n",
       "...                           ...             ...               ...       ...  \n",
       "220964                          1               0                 5      6856  \n",
       "363546                          1               1                 3      5345  \n",
       "254524                          1               1                 3     13694  \n",
       "530909                          1               1                 5      8801  \n",
       "44724                           1               1                 5      7119  \n",
       "\n",
       "[1000 rows x 10 columns]"
      ]
     },
     "execution_count": 13,
     "metadata": {},
     "output_type": "execute_result"
    }
   ],
   "source": [
    "female_sample=df[df[\"Gender\"]== \"F\"].sample(n=sample_size,random_state=1)\n",
    "female_sample"
   ]
  },
  {
   "cell_type": "code",
   "execution_count": 14,
   "id": "2f987a44",
   "metadata": {},
   "outputs": [
    {
     "data": {
      "text/html": [
       "<div>\n",
       "<style scoped>\n",
       "    .dataframe tbody tr th:only-of-type {\n",
       "        vertical-align: middle;\n",
       "    }\n",
       "\n",
       "    .dataframe tbody tr th {\n",
       "        vertical-align: top;\n",
       "    }\n",
       "\n",
       "    .dataframe thead th {\n",
       "        text-align: right;\n",
       "    }\n",
       "</style>\n",
       "<table border=\"1\" class=\"dataframe\">\n",
       "  <thead>\n",
       "    <tr style=\"text-align: right;\">\n",
       "      <th></th>\n",
       "      <th>User_ID</th>\n",
       "      <th>Product_ID</th>\n",
       "      <th>Gender</th>\n",
       "      <th>Age</th>\n",
       "      <th>Occupation</th>\n",
       "      <th>City_Category</th>\n",
       "      <th>Stay_In_Current_City_Years</th>\n",
       "      <th>Marital_Status</th>\n",
       "      <th>Product_Category</th>\n",
       "      <th>Purchase</th>\n",
       "    </tr>\n",
       "  </thead>\n",
       "  <tbody>\n",
       "    <tr>\n",
       "      <th>340812</th>\n",
       "      <td>1004433</td>\n",
       "      <td>P00116142</td>\n",
       "      <td>M</td>\n",
       "      <td>26-35</td>\n",
       "      <td>0</td>\n",
       "      <td>B</td>\n",
       "      <td>1</td>\n",
       "      <td>1</td>\n",
       "      <td>10</td>\n",
       "      <td>18514</td>\n",
       "    </tr>\n",
       "    <tr>\n",
       "      <th>6220</th>\n",
       "      <td>1001013</td>\n",
       "      <td>P00278642</td>\n",
       "      <td>M</td>\n",
       "      <td>55+</td>\n",
       "      <td>13</td>\n",
       "      <td>C</td>\n",
       "      <td>1</td>\n",
       "      <td>0</td>\n",
       "      <td>5</td>\n",
       "      <td>8748</td>\n",
       "    </tr>\n",
       "    <tr>\n",
       "      <th>233604</th>\n",
       "      <td>1006023</td>\n",
       "      <td>P00016742</td>\n",
       "      <td>M</td>\n",
       "      <td>26-35</td>\n",
       "      <td>0</td>\n",
       "      <td>C</td>\n",
       "      <td>2</td>\n",
       "      <td>1</td>\n",
       "      <td>1</td>\n",
       "      <td>11436</td>\n",
       "    </tr>\n",
       "    <tr>\n",
       "      <th>274046</th>\n",
       "      <td>1000215</td>\n",
       "      <td>P00169742</td>\n",
       "      <td>M</td>\n",
       "      <td>36-45</td>\n",
       "      <td>14</td>\n",
       "      <td>C</td>\n",
       "      <td>1</td>\n",
       "      <td>1</td>\n",
       "      <td>1</td>\n",
       "      <td>15468</td>\n",
       "    </tr>\n",
       "    <tr>\n",
       "      <th>187350</th>\n",
       "      <td>1004922</td>\n",
       "      <td>P00216342</td>\n",
       "      <td>M</td>\n",
       "      <td>18-25</td>\n",
       "      <td>17</td>\n",
       "      <td>C</td>\n",
       "      <td>1</td>\n",
       "      <td>0</td>\n",
       "      <td>3</td>\n",
       "      <td>10629</td>\n",
       "    </tr>\n",
       "    <tr>\n",
       "      <th>...</th>\n",
       "      <td>...</td>\n",
       "      <td>...</td>\n",
       "      <td>...</td>\n",
       "      <td>...</td>\n",
       "      <td>...</td>\n",
       "      <td>...</td>\n",
       "      <td>...</td>\n",
       "      <td>...</td>\n",
       "      <td>...</td>\n",
       "      <td>...</td>\n",
       "    </tr>\n",
       "    <tr>\n",
       "      <th>367498</th>\n",
       "      <td>1002590</td>\n",
       "      <td>P00226742</td>\n",
       "      <td>M</td>\n",
       "      <td>18-25</td>\n",
       "      <td>4</td>\n",
       "      <td>A</td>\n",
       "      <td>0</td>\n",
       "      <td>0</td>\n",
       "      <td>11</td>\n",
       "      <td>7563</td>\n",
       "    </tr>\n",
       "    <tr>\n",
       "      <th>47739</th>\n",
       "      <td>1001320</td>\n",
       "      <td>P00029542</td>\n",
       "      <td>M</td>\n",
       "      <td>26-35</td>\n",
       "      <td>4</td>\n",
       "      <td>A</td>\n",
       "      <td>2</td>\n",
       "      <td>0</td>\n",
       "      <td>1</td>\n",
       "      <td>8317</td>\n",
       "    </tr>\n",
       "    <tr>\n",
       "      <th>145868</th>\n",
       "      <td>1004473</td>\n",
       "      <td>P00345842</td>\n",
       "      <td>M</td>\n",
       "      <td>36-45</td>\n",
       "      <td>1</td>\n",
       "      <td>B</td>\n",
       "      <td>3</td>\n",
       "      <td>0</td>\n",
       "      <td>2</td>\n",
       "      <td>9884</td>\n",
       "    </tr>\n",
       "    <tr>\n",
       "      <th>523986</th>\n",
       "      <td>1002761</td>\n",
       "      <td>P00100842</td>\n",
       "      <td>M</td>\n",
       "      <td>36-45</td>\n",
       "      <td>6</td>\n",
       "      <td>B</td>\n",
       "      <td>0</td>\n",
       "      <td>0</td>\n",
       "      <td>5</td>\n",
       "      <td>6946</td>\n",
       "    </tr>\n",
       "    <tr>\n",
       "      <th>136582</th>\n",
       "      <td>1003103</td>\n",
       "      <td>P00293342</td>\n",
       "      <td>M</td>\n",
       "      <td>26-35</td>\n",
       "      <td>20</td>\n",
       "      <td>C</td>\n",
       "      <td>4+</td>\n",
       "      <td>1</td>\n",
       "      <td>8</td>\n",
       "      <td>8023</td>\n",
       "    </tr>\n",
       "  </tbody>\n",
       "</table>\n",
       "<p>1000 rows × 10 columns</p>\n",
       "</div>"
      ],
      "text/plain": [
       "        User_ID Product_ID Gender    Age  Occupation City_Category  \\\n",
       "340812  1004433  P00116142      M  26-35           0             B   \n",
       "6220    1001013  P00278642      M    55+          13             C   \n",
       "233604  1006023  P00016742      M  26-35           0             C   \n",
       "274046  1000215  P00169742      M  36-45          14             C   \n",
       "187350  1004922  P00216342      M  18-25          17             C   \n",
       "...         ...        ...    ...    ...         ...           ...   \n",
       "367498  1002590  P00226742      M  18-25           4             A   \n",
       "47739   1001320  P00029542      M  26-35           4             A   \n",
       "145868  1004473  P00345842      M  36-45           1             B   \n",
       "523986  1002761  P00100842      M  36-45           6             B   \n",
       "136582  1003103  P00293342      M  26-35          20             C   \n",
       "\n",
       "       Stay_In_Current_City_Years  Marital_Status  Product_Category  Purchase  \n",
       "340812                          1               1                10     18514  \n",
       "6220                            1               0                 5      8748  \n",
       "233604                          2               1                 1     11436  \n",
       "274046                          1               1                 1     15468  \n",
       "187350                          1               0                 3     10629  \n",
       "...                           ...             ...               ...       ...  \n",
       "367498                          0               0                11      7563  \n",
       "47739                           2               0                 1      8317  \n",
       "145868                          3               0                 2      9884  \n",
       "523986                          0               0                 5      6946  \n",
       "136582                         4+               1                 8      8023  \n",
       "\n",
       "[1000 rows x 10 columns]"
      ]
     },
     "execution_count": 14,
     "metadata": {},
     "output_type": "execute_result"
    }
   ],
   "source": [
    "male_sample = df[df['Gender'] == 'M'].sample(n=sample_size, random_state=1)\n",
    "male_sample"
   ]
  },
  {
   "cell_type": "code",
   "execution_count": 15,
   "id": "3da38e97",
   "metadata": {},
   "outputs": [
    {
     "data": {
      "text/plain": [
       "8935.672"
      ]
     },
     "execution_count": 15,
     "metadata": {},
     "output_type": "execute_result"
    }
   ],
   "source": [
    "female_mean=female_sample.Purchase.mean()\n",
    "female_mean"
   ]
  },
  {
   "cell_type": "code",
   "execution_count": 16,
   "id": "a3e662a9",
   "metadata": {},
   "outputs": [
    {
     "data": {
      "text/plain": [
       "9506.045"
      ]
     },
     "execution_count": 16,
     "metadata": {},
     "output_type": "execute_result"
    }
   ],
   "source": [
    "male_mean=male_sample.Purchase.mean()\n",
    "male_mean"
   ]
  },
  {
   "cell_type": "code",
   "execution_count": 17,
   "id": "3ac378e8",
   "metadata": {},
   "outputs": [
    {
     "data": {
      "text/plain": [
       "4850.300823298748"
      ]
     },
     "execution_count": 17,
     "metadata": {},
     "output_type": "execute_result"
    }
   ],
   "source": [
    "female_std=female_sample.Purchase.std()\n",
    "female_std"
   ]
  },
  {
   "cell_type": "code",
   "execution_count": 18,
   "id": "f7b44e9b",
   "metadata": {},
   "outputs": [
    {
     "data": {
      "text/plain": [
       "5092.729453275454"
      ]
     },
     "execution_count": 18,
     "metadata": {},
     "output_type": "execute_result"
    }
   ],
   "source": [
    "male_std=male_sample.Purchase.std()\n",
    "male_std"
   ]
  },
  {
   "cell_type": "code",
   "execution_count": 19,
   "id": "351418b6",
   "metadata": {},
   "outputs": [
    {
     "data": {
      "text/plain": [
       "315.6506417557401"
      ]
     },
     "execution_count": 19,
     "metadata": {},
     "output_type": "execute_result"
    }
   ],
   "source": [
    "margin_error_male=1.96*(male_std/np.sqrt(sample_size))\n",
    "margin_error_male"
   ]
  },
  {
   "cell_type": "code",
   "execution_count": 20,
   "id": "3f5eaaf5",
   "metadata": {},
   "outputs": [
    {
     "data": {
      "text/plain": [
       "300.624759596833"
      ]
     },
     "execution_count": 20,
     "metadata": {},
     "output_type": "execute_result"
    }
   ],
   "source": [
    "margin_error_female=1.96*(female_std/np.sqrt(sample_size))\n",
    "margin_error_female"
   ]
  },
  {
   "cell_type": "code",
   "execution_count": 21,
   "id": "184dfd00",
   "metadata": {},
   "outputs": [
    {
     "data": {
      "text/plain": [
       "(8635.047240403168, 9236.296759596833)"
      ]
     },
     "execution_count": 21,
     "metadata": {},
     "output_type": "execute_result"
    }
   ],
   "source": [
    "confidance_interval_female = (female_mean - margin_error_female, female_mean + margin_error_female)\n",
    "confidance_interval_female\n"
   ]
  },
  {
   "cell_type": "code",
   "execution_count": 22,
   "id": "6b3394d2",
   "metadata": {},
   "outputs": [
    {
     "data": {
      "text/plain": [
       "(9190.39435824426, 9821.69564175574)"
      ]
     },
     "execution_count": 22,
     "metadata": {},
     "output_type": "execute_result"
    }
   ],
   "source": [
    "confidance_interval_male = (male_mean - margin_error_male, male_mean + margin_error_male)\n",
    "confidance_interval_male"
   ]
  },
  {
   "cell_type": "code",
   "execution_count": 23,
   "id": "13ecfffc",
   "metadata": {},
   "outputs": [
    {
     "name": "stdout",
     "output_type": "stream",
     "text": [
      "The confidence intervals of average male and female spending overlap.\n"
     ]
    }
   ],
   "source": [
    "if confidance_interval_male[0] > confidance_interval_female[1] or confidance_interval_female[0] > confidance_interval_male[1]:\n",
    "     print(\"The confidence intervals of average male and female spending do not overlap.\")\n",
    "else:\n",
    "    print(\"The confidence intervals of average male and female spending overlap.\")"
   ]
  },
  {
   "cell_type": "code",
   "execution_count": 24,
   "id": "8e7b6944",
   "metadata": {},
   "outputs": [
    {
     "data": {
      "text/plain": [
       "9261.174574082374"
      ]
     },
     "execution_count": 24,
     "metadata": {},
     "output_type": "execute_result"
    }
   ],
   "source": [
    "avg_married_expenses = df[df.Marital_Status == True][\"Purchase\"].mean()\n",
    "avg_married_expenses"
   ]
  },
  {
   "cell_type": "code",
   "execution_count": 25,
   "id": "b4a66d17",
   "metadata": {},
   "outputs": [
    {
     "data": {
      "text/plain": [
       "9265.907618921507"
      ]
     },
     "execution_count": 25,
     "metadata": {},
     "output_type": "execute_result"
    }
   ],
   "source": [
    "avg_unmarried_expenses = df[df.Marital_Status == False][\"Purchase\"].mean()\n",
    "avg_unmarried_expenses\n"
   ]
  },
  {
   "cell_type": "code",
   "execution_count": 26,
   "id": "c234bd7d",
   "metadata": {},
   "outputs": [
    {
     "name": "stdout",
     "output_type": "stream",
     "text": [
      "There is no significant difference in spending habits between married and unmarried customers.\n"
     ]
    }
   ],
   "source": [
    "if avg_married_expenses > avg_unmarried_expenses:\n",
    "    print(\"Married customers spend more money per transaction than unmarried customers.\")\n",
    "else:\n",
    "    print(\"There is no significant difference in spending habits between married and unmarried customers.\")"
   ]
  },
  {
   "cell_type": "code",
   "execution_count": 27,
   "id": "6290c6ed",
   "metadata": {},
   "outputs": [
    {
     "data": {
      "image/png": "[encoded data removed]",
      "text/plain": [
       "<Figure size 640x480 with 1 Axes>"
      ]
     },
     "metadata": {},
     "output_type": "display_data"
    }
   ],
   "source": [
    "sns.barplot(x=df['Age'], y=df['Purchase'])\n",
    "plt.xlabel(\"Age Group\")\n",
    "plt.ylabel(\"Purchase Amount\")\n",
    "plt.title(\"Distribution of Purchase Amount by Age Group\")\n",
    "plt.show()"
   ]
  },
  {
   "cell_type": "code",
   "execution_count": 28,
   "id": "626a237a",
   "metadata": {},
   "outputs": [
    {
     "data": {
      "image/png": "[encoded data removed]",
      "text/plain": [
       "<Figure size 640x480 with 1 Axes>"
      ]
     },
     "metadata": {},
     "output_type": "display_data"
    }
   ],
   "source": [
    "sns.boxplot(x=df['Age'], y=df['Purchase'])\n",
    "plt.xlabel(\"Age Group\")\n",
    "plt.ylabel(\"Purchase Amount\")\n",
    "plt.title(\"Distribution of Purchase Amount by Age Group\")\n",
    "plt.show()"
   ]
  },
  {
   "cell_type": "code",
   "execution_count": 29,
   "id": "5c6c7097",
   "metadata": {},
   "outputs": [],
   "source": [
    "\n",
    "def convert_age_interval(age_interval):\n",
    "    if '+' in age_interval:\n",
    "        lower_limit = int(age_interval.split('+')[0])\n",
    "        return lower_limit\n",
    "    else:\n",
    "        lower_limit, upper_limit = map(int, age_interval.split('-'))\n",
    "        return (lower_limit + upper_limit) // 2\n",
    "\n",
    "\n",
    "df['Age'] = df['Age'].apply(convert_age_interval)\n"
   ]
  },
  {
   "cell_type": "code",
   "execution_count": 30,
   "id": "0d686fa8",
   "metadata": {},
   "outputs": [
    {
     "name": "stdout",
     "output_type": "stream",
     "text": [
      "        User_ID Product_ID Gender  Age  Occupation City_Category  \\\n",
      "0       1000001  P00069042      F    8          10             A   \n",
      "1       1000001  P00248942      F    8          10             A   \n",
      "2       1000001  P00087842      F    8          10             A   \n",
      "3       1000001  P00085442      F    8          10             A   \n",
      "4       1000002  P00285442      M   55          16             C   \n",
      "...         ...        ...    ...  ...         ...           ...   \n",
      "550063  1006033  P00372445      M   53          13             B   \n",
      "550064  1006035  P00375436      F   30           1             C   \n",
      "550065  1006036  P00375436      F   30          15             B   \n",
      "550066  1006038  P00375436      F   55           1             C   \n",
      "550067  1006039  P00371644      F   48           0             B   \n",
      "\n",
      "       Stay_In_Current_City_Years  Marital_Status  Product_Category  Purchase  \n",
      "0                               2               0                 3      8370  \n",
      "1                               2               0                 1     15200  \n",
      "2                               2               0                12      1422  \n",
      "3                               2               0                12      1057  \n",
      "4                              4+               0                 8      7969  \n",
      "...                           ...             ...               ...       ...  \n",
      "550063                          1               1                20       368  \n",
      "550064                          3               0                20       371  \n",
      "550065                         4+               1                20       137  \n",
      "550066                          2               0                20       365  \n",
      "550067                         4+               1                20       490  \n",
      "\n",
      "[550068 rows x 10 columns]\n"
     ]
    }
   ],
   "source": [
    "print(df)"
   ]
  },
  {
   "cell_type": "code",
   "execution_count": 31,
   "id": "542fba91",
   "metadata": {},
   "outputs": [
    {
     "name": "stderr",
     "output_type": "stream",
     "text": [
      "C:\\Users\\criss\\AppData\\Local\\Temp\\ipykernel_11076\\439454894.py:1: FutureWarning: The default value of numeric_only in DataFrame.corr is deprecated. In a future version, it will default to False. Select only valid columns or specify the value of numeric_only to silence this warning.\n",
      "  sns.heatmap(df.corr(), annot=True, cmap='coolwarm')\n"
     ]
    },
    {
     "data": {
      "image/png": "[encoded data removed]",
      "text/plain": [
       "<Figure size 640x480 with 2 Axes>"
      ]
     },
     "metadata": {},
     "output_type": "display_data"
    }
   ],
   "source": [
    "sns.heatmap(df.corr(), annot=True, cmap='coolwarm')\n",
    "plt.show()"
   ]
  },
  {
   "cell_type": "code",
   "execution_count": 32,
   "id": "59ffbf0d",
   "metadata": {},
   "outputs": [
    {
     "data": {
      "image/png": "[encoded data removed]",
      "text/plain": [
       "<Figure size 640x480 with 1 Axes>"
      ]
     },
     "metadata": {},
     "output_type": "display_data"
    }
   ],
   "source": [
    "sns.histplot(df['Purchase'])\n",
    "plt.show()"
   ]
  },
  {
   "cell_type": "markdown",
   "id": "e8550a4f",
   "metadata": {},
   "source": [
    "# INSIGHT"
   ]
  },
  {
   "cell_type": "markdown",
   "id": "c0406193",
   "metadata": {},
   "source": [
    "# Men tend to spend more money per transaction than men.\n",
    "\n"
   ]
  },
  {
   "cell_type": "markdown",
   "id": "08af9fca",
   "metadata": {},
   "source": [
    "# The confidence intervals of average male and female spending do overlap, indicating significant similarity in spending habits."
   ]
  },
  {
   "cell_type": "markdown",
   "id": "0931735f",
   "metadata": {},
   "source": [
    "# MARRIED PEOPLE SPEND A LITTLE MORE THAN UNMARRIED PEOPLES."
   ]
  },
  {
   "cell_type": "markdown",
   "id": "e143973e",
   "metadata": {},
   "source": [
    "Recommendations:\n",
    "Walmart can focus on tailoring marketing and promotional strategies to attract and engage male customers, leveraging their tendency to spend more.\n",
    "Based on the differences in spending habits, Walmart can customize product offerings and store layouts to cater to different customer segments.\n",
    "Analyze the impact of marital status and age on purchasing behavior and explore targeted approaches to enhance customer satisfaction and loyalty.\n",
    "Remember to include detailed explanations and supporting evidence for your insights and recommendations."
   ]
  },
  {
   "cell_type": "code",
   "execution_count": null,
   "id": "67cafd8e",
   "metadata": {},
   "outputs": [],
   "source": []
  }
 ],
 "metadata": {
  "kernelspec": {
   "display_name": "Python 3 (ipykernel)",
   "language": "python",
   "name": "python3"
  },
  "language_info": {
   "codemirror_mode": {
    "name": "ipython",
    "version": 3
   },
   "file_extension": ".py",
   "mimetype": "text/x-python",
   "name": "python",
   "nbconvert_exporter": "python",
   "pygments_lexer": "ipython3",
   "version": "3.10.9"
  }
 },
 "nbformat": 4,
 "nbformat_minor": 5
}
