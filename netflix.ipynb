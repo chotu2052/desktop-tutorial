{
 "cells": [
  {
   "cell_type": "code",
   "execution_count": 1,
   "id": "24fedbc8",
   "metadata": {},
   "outputs": [],
   "source": [
    "import pandas as pd"
   ]
  },
  {
   "cell_type": "code",
   "execution_count": 2,
   "id": "504f2d64",
   "metadata": {},
   "outputs": [],
   "source": [
    "import numpy as np"
   ]
  },
  {
   "cell_type": "code",
   "execution_count": 3,
   "id": "0ca25188",
   "metadata": {},
   "outputs": [],
   "source": [
    "import matplotlib.pyplot as plt\n",
    "import seaborn as sns"
   ]
  },
  {
   "cell_type": "markdown",
   "id": "c6d5e42c",
   "metadata": {},
   "source": [
    "# IMPORTING THE NETFLIX FILE TO PANDAS"
   ]
  },
  {
   "cell_type": "code",
   "execution_count": 35,
   "id": "fc137b71",
   "metadata": {},
   "outputs": [
    {
     "name": "stdout",
     "output_type": "stream",
     "text": [
      "     show_id     type                  title         director  \\\n",
      "0         s1    Movie   Dick Johnson Is Dead  Kirsten Johnson   \n",
      "1         s2  TV Show          Blood & Water              NaN   \n",
      "2         s3  TV Show              Ganglands  Julien Leclercq   \n",
      "3         s4  TV Show  Jailbirds New Orleans              NaN   \n",
      "4         s5  TV Show           Kota Factory              NaN   \n",
      "...      ...      ...                    ...              ...   \n",
      "8802   s8803    Movie                 Zodiac    David Fincher   \n",
      "8803   s8804  TV Show            Zombie Dumb              NaN   \n",
      "8804   s8805    Movie             Zombieland  Ruben Fleischer   \n",
      "8805   s8806    Movie                   Zoom     Peter Hewitt   \n",
      "8806   s8807    Movie                 Zubaan      Mozez Singh   \n",
      "\n",
      "                                                   cast        country  \\\n",
      "0                                                   NaN  United States   \n",
      "1     Ama Qamata, Khosi Ngema, Gail Mabalane, Thaban...   South Africa   \n",
      "2     Sami Bouajila, Tracy Gotoas, Samuel Jouy, Nabi...            NaN   \n",
      "3                                                   NaN            NaN   \n",
      "4     Mayur More, Jitendra Kumar, Ranjan Raj, Alam K...          India   \n",
      "...                                                 ...            ...   \n",
      "8802  Mark Ruffalo, Jake Gyllenhaal, Robert Downey J...  United States   \n",
      "8803                                                NaN            NaN   \n",
      "8804  Jesse Eisenberg, Woody Harrelson, Emma Stone, ...  United States   \n",
      "8805  Tim Allen, Courteney Cox, Chevy Chase, Kate Ma...  United States   \n",
      "8806  Vicky Kaushal, Sarah-Jane Dias, Raaghav Chanan...          India   \n",
      "\n",
      "              date_added  release_year rating   duration  \\\n",
      "0     September 25, 2021          2020  PG-13     90 min   \n",
      "1     September 24, 2021          2021  TV-MA  2 Seasons   \n",
      "2     September 24, 2021          2021  TV-MA   1 Season   \n",
      "3     September 24, 2021          2021  TV-MA   1 Season   \n",
      "4     September 24, 2021          2021  TV-MA  2 Seasons   \n",
      "...                  ...           ...    ...        ...   \n",
      "8802   November 20, 2019          2007      R    158 min   \n",
      "8803        July 1, 2019          2018  TV-Y7  2 Seasons   \n",
      "8804    November 1, 2019          2009      R     88 min   \n",
      "8805    January 11, 2020          2006     PG     88 min   \n",
      "8806       March 2, 2019          2015  TV-14    111 min   \n",
      "\n",
      "                                              listed_in  \\\n",
      "0                                         Documentaries   \n",
      "1       International TV Shows, TV Dramas, TV Mysteries   \n",
      "2     Crime TV Shows, International TV Shows, TV Act...   \n",
      "3                                Docuseries, Reality TV   \n",
      "4     International TV Shows, Romantic TV Shows, TV ...   \n",
      "...                                                 ...   \n",
      "8802                     Cult Movies, Dramas, Thrillers   \n",
      "8803             Kids' TV, Korean TV Shows, TV Comedies   \n",
      "8804                            Comedies, Horror Movies   \n",
      "8805                 Children & Family Movies, Comedies   \n",
      "8806     Dramas, International Movies, Music & Musicals   \n",
      "\n",
      "                                            description  \n",
      "0     As her father nears the end of his life, filmm...  \n",
      "1     After crossing paths at a party, a Cape Town t...  \n",
      "2     To protect his family from a powerful drug lor...  \n",
      "3     Feuds, flirtations and toilet talk go down amo...  \n",
      "4     In a city of coaching centers known to train I...  \n",
      "...                                                 ...  \n",
      "8802  A political cartoonist, a crime reporter and a...  \n",
      "8803  While living alone in a spooky town, a young g...  \n",
      "8804  Looking to survive in a world taken over by zo...  \n",
      "8805  Dragged from civilian life, a former superhero...  \n",
      "8806  A scrappy but poor boy worms his way into a ty...  \n",
      "\n",
      "[8807 rows x 12 columns]\n"
     ]
    }
   ],
   "source": [
    "df = pd.read_csv(r'C:\\netflix.csv')\n",
    "print(df)"
   ]
  },
  {
   "cell_type": "markdown",
   "id": "da047809",
   "metadata": {},
   "source": [
    "# CHECKING THE DESCRIPTION OF THE FILE AND ALL ITS COLUMN"
   ]
  },
  {
   "cell_type": "code",
   "execution_count": 36,
   "id": "da2943fb",
   "metadata": {},
   "outputs": [
    {
     "data": {
      "text/html": [
       "<div>\n",
       "<style scoped>\n",
       "    .dataframe tbody tr th:only-of-type {\n",
       "        vertical-align: middle;\n",
       "    }\n",
       "\n",
       "    .dataframe tbody tr th {\n",
       "        vertical-align: top;\n",
       "    }\n",
       "\n",
       "    .dataframe thead th {\n",
       "        text-align: right;\n",
       "    }\n",
       "</style>\n",
       "<table border=\"1\" class=\"dataframe\">\n",
       "  <thead>\n",
       "    <tr style=\"text-align: right;\">\n",
       "      <th></th>\n",
       "      <th>release_year</th>\n",
       "    </tr>\n",
       "  </thead>\n",
       "  <tbody>\n",
       "    <tr>\n",
       "      <th>count</th>\n",
       "      <td>8807.000000</td>\n",
       "    </tr>\n",
       "    <tr>\n",
       "      <th>mean</th>\n",
       "      <td>2014.180198</td>\n",
       "    </tr>\n",
       "    <tr>\n",
       "      <th>std</th>\n",
       "      <td>8.819312</td>\n",
       "    </tr>\n",
       "    <tr>\n",
       "      <th>min</th>\n",
       "      <td>1925.000000</td>\n",
       "    </tr>\n",
       "    <tr>\n",
       "      <th>25%</th>\n",
       "      <td>2013.000000</td>\n",
       "    </tr>\n",
       "    <tr>\n",
       "      <th>50%</th>\n",
       "      <td>2017.000000</td>\n",
       "    </tr>\n",
       "    <tr>\n",
       "      <th>75%</th>\n",
       "      <td>2019.000000</td>\n",
       "    </tr>\n",
       "    <tr>\n",
       "      <th>max</th>\n",
       "      <td>2021.000000</td>\n",
       "    </tr>\n",
       "  </tbody>\n",
       "</table>\n",
       "</div>"
      ],
      "text/plain": [
       "       release_year\n",
       "count   8807.000000\n",
       "mean    2014.180198\n",
       "std        8.819312\n",
       "min     1925.000000\n",
       "25%     2013.000000\n",
       "50%     2017.000000\n",
       "75%     2019.000000\n",
       "max     2021.000000"
      ]
     },
     "execution_count": 36,
     "metadata": {},
     "output_type": "execute_result"
    }
   ],
   "source": [
    "df.describe()"
   ]
  },
  {
   "cell_type": "code",
   "execution_count": 37,
   "id": "77515d6a",
   "metadata": {},
   "outputs": [
    {
     "data": {
      "text/plain": [
       "<bound method DataFrame.info of      show_id     type                  title         director  \\\n",
       "0         s1    Movie   Dick Johnson Is Dead  Kirsten Johnson   \n",
       "1         s2  TV Show          Blood & Water              NaN   \n",
       "2         s3  TV Show              Ganglands  Julien Leclercq   \n",
       "3         s4  TV Show  Jailbirds New Orleans              NaN   \n",
       "4         s5  TV Show           Kota Factory              NaN   \n",
       "...      ...      ...                    ...              ...   \n",
       "8802   s8803    Movie                 Zodiac    David Fincher   \n",
       "8803   s8804  TV Show            Zombie Dumb              NaN   \n",
       "8804   s8805    Movie             Zombieland  Ruben Fleischer   \n",
       "8805   s8806    Movie                   Zoom     Peter Hewitt   \n",
       "8806   s8807    Movie                 Zubaan      Mozez Singh   \n",
       "\n",
       "                                                   cast        country  \\\n",
       "0                                                   NaN  United States   \n",
       "1     Ama Qamata, Khosi Ngema, Gail Mabalane, Thaban...   South Africa   \n",
       "2     Sami Bouajila, Tracy Gotoas, Samuel Jouy, Nabi...            NaN   \n",
       "3                                                   NaN            NaN   \n",
       "4     Mayur More, Jitendra Kumar, Ranjan Raj, Alam K...          India   \n",
       "...                                                 ...            ...   \n",
       "8802  Mark Ruffalo, Jake Gyllenhaal, Robert Downey J...  United States   \n",
       "8803                                                NaN            NaN   \n",
       "8804  Jesse Eisenberg, Woody Harrelson, Emma Stone, ...  United States   \n",
       "8805  Tim Allen, Courteney Cox, Chevy Chase, Kate Ma...  United States   \n",
       "8806  Vicky Kaushal, Sarah-Jane Dias, Raaghav Chanan...          India   \n",
       "\n",
       "              date_added  release_year rating   duration  \\\n",
       "0     September 25, 2021          2020  PG-13     90 min   \n",
       "1     September 24, 2021          2021  TV-MA  2 Seasons   \n",
       "2     September 24, 2021          2021  TV-MA   1 Season   \n",
       "3     September 24, 2021          2021  TV-MA   1 Season   \n",
       "4     September 24, 2021          2021  TV-MA  2 Seasons   \n",
       "...                  ...           ...    ...        ...   \n",
       "8802   November 20, 2019          2007      R    158 min   \n",
       "8803        July 1, 2019          2018  TV-Y7  2 Seasons   \n",
       "8804    November 1, 2019          2009      R     88 min   \n",
       "8805    January 11, 2020          2006     PG     88 min   \n",
       "8806       March 2, 2019          2015  TV-14    111 min   \n",
       "\n",
       "                                              listed_in  \\\n",
       "0                                         Documentaries   \n",
       "1       International TV Shows, TV Dramas, TV Mysteries   \n",
       "2     Crime TV Shows, International TV Shows, TV Act...   \n",
       "3                                Docuseries, Reality TV   \n",
       "4     International TV Shows, Romantic TV Shows, TV ...   \n",
       "...                                                 ...   \n",
       "8802                     Cult Movies, Dramas, Thrillers   \n",
       "8803             Kids' TV, Korean TV Shows, TV Comedies   \n",
       "8804                            Comedies, Horror Movies   \n",
       "8805                 Children & Family Movies, Comedies   \n",
       "8806     Dramas, International Movies, Music & Musicals   \n",
       "\n",
       "                                            description  \n",
       "0     As her father nears the end of his life, filmm...  \n",
       "1     After crossing paths at a party, a Cape Town t...  \n",
       "2     To protect his family from a powerful drug lor...  \n",
       "3     Feuds, flirtations and toilet talk go down amo...  \n",
       "4     In a city of coaching centers known to train I...  \n",
       "...                                                 ...  \n",
       "8802  A political cartoonist, a crime reporter and a...  \n",
       "8803  While living alone in a spooky town, a young g...  \n",
       "8804  Looking to survive in a world taken over by zo...  \n",
       "8805  Dragged from civilian life, a former superhero...  \n",
       "8806  A scrappy but poor boy worms his way into a ty...  \n",
       "\n",
       "[8807 rows x 12 columns]>"
      ]
     },
     "execution_count": 37,
     "metadata": {},
     "output_type": "execute_result"
    }
   ],
   "source": [
    "df.info"
   ]
  },
  {
   "cell_type": "code",
   "execution_count": 38,
   "id": "46c51f42",
   "metadata": {},
   "outputs": [
    {
     "data": {
      "text/plain": [
       "show_id         8807\n",
       "type               2\n",
       "title           8804\n",
       "director        4528\n",
       "cast            7692\n",
       "country          748\n",
       "date_added      1767\n",
       "release_year      74\n",
       "rating            17\n",
       "duration         220\n",
       "listed_in        514\n",
       "description     8775\n",
       "dtype: int64"
      ]
     },
     "execution_count": 38,
     "metadata": {},
     "output_type": "execute_result"
    }
   ],
   "source": [
    "df.nunique()"
   ]
  },
  {
   "cell_type": "markdown",
   "id": "438ce3f3",
   "metadata": {},
   "source": [
    "# CHECKING THE NULL OR MISSING VALUES IN CLOUMNS"
   ]
  },
  {
   "cell_type": "code",
   "execution_count": 39,
   "id": "2ab8dddf",
   "metadata": {},
   "outputs": [
    {
     "data": {
      "text/plain": [
       "show_id            0\n",
       "type               0\n",
       "title              0\n",
       "director        2634\n",
       "cast             825\n",
       "country          831\n",
       "date_added        10\n",
       "release_year       0\n",
       "rating             4\n",
       "duration           3\n",
       "listed_in          0\n",
       "description        0\n",
       "dtype: int64"
      ]
     },
     "execution_count": 39,
     "metadata": {},
     "output_type": "execute_result"
    }
   ],
   "source": [
    "df.isnull().sum()"
   ]
  },
  {
   "cell_type": "markdown",
   "id": "e810aec3",
   "metadata": {},
   "source": [
    "# FILLING THE NULL OR NAN VALUES WITH SOME DATA TO FILL THE CLOUMNS"
   ]
  },
  {
   "cell_type": "code",
   "execution_count": 40,
   "id": "248ce5c1",
   "metadata": {},
   "outputs": [],
   "source": [
    "df.director.fillna('Director Not Mentioned',inplace=True)\n",
    "df.cast.fillna(\"No Cast\",inplace=True)\n",
    "df.country.fillna(\"Country not available\", inplace=True)\n",
    "df.date_added.fillna(\"Date Missing\",inplace=True)\n",
    "df.rating.fillna(\"Not Rated\",inplace=True)\n",
    "df.duration.fillna(0,inplace=True)"
   ]
  },
  {
   "cell_type": "markdown",
   "id": "6c006792",
   "metadata": {},
   "source": [
    "# CHECKING IF THE VALUES ARE ACCEPTED OR HAS ANY PROBLEMS IN IT"
   ]
  },
  {
   "cell_type": "code",
   "execution_count": 41,
   "id": "0663341e",
   "metadata": {},
   "outputs": [
    {
     "data": {
      "text/plain": [
       "show_id         0\n",
       "type            0\n",
       "title           0\n",
       "director        0\n",
       "cast            0\n",
       "country         0\n",
       "date_added      0\n",
       "release_year    0\n",
       "rating          0\n",
       "duration        0\n",
       "listed_in       0\n",
       "description     0\n",
       "dtype: int64"
      ]
     },
     "execution_count": 41,
     "metadata": {},
     "output_type": "execute_result"
    }
   ],
   "source": [
    "df.isnull().sum()"
   ]
  },
  {
   "cell_type": "markdown",
   "id": "4c113b1a",
   "metadata": {},
   "source": [
    "# CHECK THE HEADINGS TO WORK WITH THE SHEET FOR BETTER INFORMATION"
   ]
  },
  {
   "cell_type": "code",
   "execution_count": 42,
   "id": "f6c2e0ba",
   "metadata": {},
   "outputs": [
    {
     "data": {
      "text/html": [
       "<div>\n",
       "<style scoped>\n",
       "    .dataframe tbody tr th:only-of-type {\n",
       "        vertical-align: middle;\n",
       "    }\n",
       "\n",
       "    .dataframe tbody tr th {\n",
       "        vertical-align: top;\n",
       "    }\n",
       "\n",
       "    .dataframe thead th {\n",
       "        text-align: right;\n",
       "    }\n",
       "</style>\n",
       "<table border=\"1\" class=\"dataframe\">\n",
       "  <thead>\n",
       "    <tr style=\"text-align: right;\">\n",
       "      <th></th>\n",
       "      <th>show_id</th>\n",
       "      <th>type</th>\n",
       "      <th>title</th>\n",
       "      <th>director</th>\n",
       "      <th>cast</th>\n",
       "      <th>country</th>\n",
       "      <th>date_added</th>\n",
       "      <th>release_year</th>\n",
       "      <th>rating</th>\n",
       "      <th>duration</th>\n",
       "      <th>listed_in</th>\n",
       "      <th>description</th>\n",
       "    </tr>\n",
       "  </thead>\n",
       "  <tbody>\n",
       "    <tr>\n",
       "      <th>0</th>\n",
       "      <td>s1</td>\n",
       "      <td>Movie</td>\n",
       "      <td>Dick Johnson Is Dead</td>\n",
       "      <td>Kirsten Johnson</td>\n",
       "      <td>No Cast</td>\n",
       "      <td>United States</td>\n",
       "      <td>September 25, 2021</td>\n",
       "      <td>2020</td>\n",
       "      <td>PG-13</td>\n",
       "      <td>90 min</td>\n",
       "      <td>Documentaries</td>\n",
       "      <td>As her father nears the end of his life, filmm...</td>\n",
       "    </tr>\n",
       "    <tr>\n",
       "      <th>1</th>\n",
       "      <td>s2</td>\n",
       "      <td>TV Show</td>\n",
       "      <td>Blood &amp; Water</td>\n",
       "      <td>Director Not Mentioned</td>\n",
       "      <td>Ama Qamata, Khosi Ngema, Gail Mabalane, Thaban...</td>\n",
       "      <td>South Africa</td>\n",
       "      <td>September 24, 2021</td>\n",
       "      <td>2021</td>\n",
       "      <td>TV-MA</td>\n",
       "      <td>2 Seasons</td>\n",
       "      <td>International TV Shows, TV Dramas, TV Mysteries</td>\n",
       "      <td>After crossing paths at a party, a Cape Town t...</td>\n",
       "    </tr>\n",
       "    <tr>\n",
       "      <th>2</th>\n",
       "      <td>s3</td>\n",
       "      <td>TV Show</td>\n",
       "      <td>Ganglands</td>\n",
       "      <td>Julien Leclercq</td>\n",
       "      <td>Sami Bouajila, Tracy Gotoas, Samuel Jouy, Nabi...</td>\n",
       "      <td>Country not available</td>\n",
       "      <td>September 24, 2021</td>\n",
       "      <td>2021</td>\n",
       "      <td>TV-MA</td>\n",
       "      <td>1 Season</td>\n",
       "      <td>Crime TV Shows, International TV Shows, TV Act...</td>\n",
       "      <td>To protect his family from a powerful drug lor...</td>\n",
       "    </tr>\n",
       "    <tr>\n",
       "      <th>3</th>\n",
       "      <td>s4</td>\n",
       "      <td>TV Show</td>\n",
       "      <td>Jailbirds New Orleans</td>\n",
       "      <td>Director Not Mentioned</td>\n",
       "      <td>No Cast</td>\n",
       "      <td>Country not available</td>\n",
       "      <td>September 24, 2021</td>\n",
       "      <td>2021</td>\n",
       "      <td>TV-MA</td>\n",
       "      <td>1 Season</td>\n",
       "      <td>Docuseries, Reality TV</td>\n",
       "      <td>Feuds, flirtations and toilet talk go down amo...</td>\n",
       "    </tr>\n",
       "    <tr>\n",
       "      <th>4</th>\n",
       "      <td>s5</td>\n",
       "      <td>TV Show</td>\n",
       "      <td>Kota Factory</td>\n",
       "      <td>Director Not Mentioned</td>\n",
       "      <td>Mayur More, Jitendra Kumar, Ranjan Raj, Alam K...</td>\n",
       "      <td>India</td>\n",
       "      <td>September 24, 2021</td>\n",
       "      <td>2021</td>\n",
       "      <td>TV-MA</td>\n",
       "      <td>2 Seasons</td>\n",
       "      <td>International TV Shows, Romantic TV Shows, TV ...</td>\n",
       "      <td>In a city of coaching centers known to train I...</td>\n",
       "    </tr>\n",
       "  </tbody>\n",
       "</table>\n",
       "</div>"
      ],
      "text/plain": [
       "  show_id     type                  title                director  \\\n",
       "0      s1    Movie   Dick Johnson Is Dead         Kirsten Johnson   \n",
       "1      s2  TV Show          Blood & Water  Director Not Mentioned   \n",
       "2      s3  TV Show              Ganglands         Julien Leclercq   \n",
       "3      s4  TV Show  Jailbirds New Orleans  Director Not Mentioned   \n",
       "4      s5  TV Show           Kota Factory  Director Not Mentioned   \n",
       "\n",
       "                                                cast                country  \\\n",
       "0                                            No Cast          United States   \n",
       "1  Ama Qamata, Khosi Ngema, Gail Mabalane, Thaban...           South Africa   \n",
       "2  Sami Bouajila, Tracy Gotoas, Samuel Jouy, Nabi...  Country not available   \n",
       "3                                            No Cast  Country not available   \n",
       "4  Mayur More, Jitendra Kumar, Ranjan Raj, Alam K...                  India   \n",
       "\n",
       "           date_added  release_year rating   duration  \\\n",
       "0  September 25, 2021          2020  PG-13     90 min   \n",
       "1  September 24, 2021          2021  TV-MA  2 Seasons   \n",
       "2  September 24, 2021          2021  TV-MA   1 Season   \n",
       "3  September 24, 2021          2021  TV-MA   1 Season   \n",
       "4  September 24, 2021          2021  TV-MA  2 Seasons   \n",
       "\n",
       "                                           listed_in  \\\n",
       "0                                      Documentaries   \n",
       "1    International TV Shows, TV Dramas, TV Mysteries   \n",
       "2  Crime TV Shows, International TV Shows, TV Act...   \n",
       "3                             Docuseries, Reality TV   \n",
       "4  International TV Shows, Romantic TV Shows, TV ...   \n",
       "\n",
       "                                         description  \n",
       "0  As her father nears the end of his life, filmm...  \n",
       "1  After crossing paths at a party, a Cape Town t...  \n",
       "2  To protect his family from a powerful drug lor...  \n",
       "3  Feuds, flirtations and toilet talk go down amo...  \n",
       "4  In a city of coaching centers known to train I...  "
      ]
     },
     "execution_count": 42,
     "metadata": {},
     "output_type": "execute_result"
    }
   ],
   "source": [
    "df.head()"
   ]
  },
  {
   "cell_type": "code",
   "execution_count": 43,
   "id": "7487de94",
   "metadata": {},
   "outputs": [
    {
     "data": {
      "text/html": [
       "<div>\n",
       "<style scoped>\n",
       "    .dataframe tbody tr th:only-of-type {\n",
       "        vertical-align: middle;\n",
       "    }\n",
       "\n",
       "    .dataframe tbody tr th {\n",
       "        vertical-align: top;\n",
       "    }\n",
       "\n",
       "    .dataframe thead th {\n",
       "        text-align: right;\n",
       "    }\n",
       "</style>\n",
       "<table border=\"1\" class=\"dataframe\">\n",
       "  <thead>\n",
       "    <tr style=\"text-align: right;\">\n",
       "      <th></th>\n",
       "      <th>show_id</th>\n",
       "      <th>type</th>\n",
       "      <th>title</th>\n",
       "      <th>director</th>\n",
       "      <th>cast</th>\n",
       "      <th>country</th>\n",
       "      <th>date_added</th>\n",
       "      <th>release_year</th>\n",
       "      <th>rating</th>\n",
       "      <th>duration</th>\n",
       "      <th>listed_in</th>\n",
       "      <th>description</th>\n",
       "    </tr>\n",
       "  </thead>\n",
       "  <tbody>\n",
       "    <tr>\n",
       "      <th>8802</th>\n",
       "      <td>s8803</td>\n",
       "      <td>Movie</td>\n",
       "      <td>Zodiac</td>\n",
       "      <td>David Fincher</td>\n",
       "      <td>Mark Ruffalo, Jake Gyllenhaal, Robert Downey J...</td>\n",
       "      <td>United States</td>\n",
       "      <td>November 20, 2019</td>\n",
       "      <td>2007</td>\n",
       "      <td>R</td>\n",
       "      <td>158 min</td>\n",
       "      <td>Cult Movies, Dramas, Thrillers</td>\n",
       "      <td>A political cartoonist, a crime reporter and a...</td>\n",
       "    </tr>\n",
       "    <tr>\n",
       "      <th>8803</th>\n",
       "      <td>s8804</td>\n",
       "      <td>TV Show</td>\n",
       "      <td>Zombie Dumb</td>\n",
       "      <td>Director Not Mentioned</td>\n",
       "      <td>No Cast</td>\n",
       "      <td>Country not available</td>\n",
       "      <td>July 1, 2019</td>\n",
       "      <td>2018</td>\n",
       "      <td>TV-Y7</td>\n",
       "      <td>2 Seasons</td>\n",
       "      <td>Kids' TV, Korean TV Shows, TV Comedies</td>\n",
       "      <td>While living alone in a spooky town, a young g...</td>\n",
       "    </tr>\n",
       "    <tr>\n",
       "      <th>8804</th>\n",
       "      <td>s8805</td>\n",
       "      <td>Movie</td>\n",
       "      <td>Zombieland</td>\n",
       "      <td>Ruben Fleischer</td>\n",
       "      <td>Jesse Eisenberg, Woody Harrelson, Emma Stone, ...</td>\n",
       "      <td>United States</td>\n",
       "      <td>November 1, 2019</td>\n",
       "      <td>2009</td>\n",
       "      <td>R</td>\n",
       "      <td>88 min</td>\n",
       "      <td>Comedies, Horror Movies</td>\n",
       "      <td>Looking to survive in a world taken over by zo...</td>\n",
       "    </tr>\n",
       "    <tr>\n",
       "      <th>8805</th>\n",
       "      <td>s8806</td>\n",
       "      <td>Movie</td>\n",
       "      <td>Zoom</td>\n",
       "      <td>Peter Hewitt</td>\n",
       "      <td>Tim Allen, Courteney Cox, Chevy Chase, Kate Ma...</td>\n",
       "      <td>United States</td>\n",
       "      <td>January 11, 2020</td>\n",
       "      <td>2006</td>\n",
       "      <td>PG</td>\n",
       "      <td>88 min</td>\n",
       "      <td>Children &amp; Family Movies, Comedies</td>\n",
       "      <td>Dragged from civilian life, a former superhero...</td>\n",
       "    </tr>\n",
       "    <tr>\n",
       "      <th>8806</th>\n",
       "      <td>s8807</td>\n",
       "      <td>Movie</td>\n",
       "      <td>Zubaan</td>\n",
       "      <td>Mozez Singh</td>\n",
       "      <td>Vicky Kaushal, Sarah-Jane Dias, Raaghav Chanan...</td>\n",
       "      <td>India</td>\n",
       "      <td>March 2, 2019</td>\n",
       "      <td>2015</td>\n",
       "      <td>TV-14</td>\n",
       "      <td>111 min</td>\n",
       "      <td>Dramas, International Movies, Music &amp; Musicals</td>\n",
       "      <td>A scrappy but poor boy worms his way into a ty...</td>\n",
       "    </tr>\n",
       "  </tbody>\n",
       "</table>\n",
       "</div>"
      ],
      "text/plain": [
       "     show_id     type        title                director  \\\n",
       "8802   s8803    Movie       Zodiac           David Fincher   \n",
       "8803   s8804  TV Show  Zombie Dumb  Director Not Mentioned   \n",
       "8804   s8805    Movie   Zombieland         Ruben Fleischer   \n",
       "8805   s8806    Movie         Zoom            Peter Hewitt   \n",
       "8806   s8807    Movie       Zubaan             Mozez Singh   \n",
       "\n",
       "                                                   cast  \\\n",
       "8802  Mark Ruffalo, Jake Gyllenhaal, Robert Downey J...   \n",
       "8803                                            No Cast   \n",
       "8804  Jesse Eisenberg, Woody Harrelson, Emma Stone, ...   \n",
       "8805  Tim Allen, Courteney Cox, Chevy Chase, Kate Ma...   \n",
       "8806  Vicky Kaushal, Sarah-Jane Dias, Raaghav Chanan...   \n",
       "\n",
       "                    country         date_added  release_year rating  \\\n",
       "8802          United States  November 20, 2019          2007      R   \n",
       "8803  Country not available       July 1, 2019          2018  TV-Y7   \n",
       "8804          United States   November 1, 2019          2009      R   \n",
       "8805          United States   January 11, 2020          2006     PG   \n",
       "8806                  India      March 2, 2019          2015  TV-14   \n",
       "\n",
       "       duration                                       listed_in  \\\n",
       "8802    158 min                  Cult Movies, Dramas, Thrillers   \n",
       "8803  2 Seasons          Kids' TV, Korean TV Shows, TV Comedies   \n",
       "8804     88 min                         Comedies, Horror Movies   \n",
       "8805     88 min              Children & Family Movies, Comedies   \n",
       "8806    111 min  Dramas, International Movies, Music & Musicals   \n",
       "\n",
       "                                            description  \n",
       "8802  A political cartoonist, a crime reporter and a...  \n",
       "8803  While living alone in a spooky town, a young g...  \n",
       "8804  Looking to survive in a world taken over by zo...  \n",
       "8805  Dragged from civilian life, a former superhero...  \n",
       "8806  A scrappy but poor boy worms his way into a ty...  "
      ]
     },
     "execution_count": 43,
     "metadata": {},
     "output_type": "execute_result"
    }
   ],
   "source": [
    "df.tail()"
   ]
  },
  {
   "cell_type": "code",
   "execution_count": 44,
   "id": "59707ec7",
   "metadata": {},
   "outputs": [
    {
     "data": {
      "image/png": "[encoded data removed]",
      "text/plain": [
       "<Figure size 600x600 with 1 Axes>"
      ]
     },
     "metadata": {},
     "output_type": "display_data"
    }
   ],
   "source": [
    "plt.figure(figsize=(6,6))\n",
    "plt.title(\"Netflix Titles that are either Movies or TV Shows\")\n",
    "g = plt.pie(df.type.value_counts(),explode=(0.025,0.025), labels=df.type.value_counts().index, colors=[\"blue\",\"green\"],autopct='%1.1f%%', startangle=180)\n",
    "plt.show()"
   ]
  },
  {
   "cell_type": "markdown",
   "id": "13fb765d",
   "metadata": {},
   "source": [
    "# HERE WE CAN CONCLUDE THAT PEOLPE ARE MORE INTRESTED IN MOVIES THEN IN TV SHOWS"
   ]
  },
  {
   "cell_type": "code",
   "execution_count": 45,
   "id": "bb450c96",
   "metadata": {},
   "outputs": [
    {
     "data": {
      "text/plain": [
       "Movie      6131\n",
       "TV Show    2676\n",
       "Name: type, dtype: int64"
      ]
     },
     "execution_count": 45,
     "metadata": {},
     "output_type": "execute_result"
    }
   ],
   "source": [
    "df.type.value_counts()"
   ]
  },
  {
   "cell_type": "code",
   "execution_count": null,
   "id": "b40403a5",
   "metadata": {},
   "outputs": [],
   "source": []
  },
  {
   "cell_type": "markdown",
   "id": "ab552ef4",
   "metadata": {},
   "source": [
    "# Top 10 Countries Contributor on Netflix"
   ]
  },
  {
   "cell_type": "code",
   "execution_count": 46,
   "id": "645f6d44",
   "metadata": {},
   "outputs": [
    {
     "data": {
      "image/png": "[encoded data removed]",
      "text/plain": [
       "<Figure size 1400x700 with 1 Axes>"
      ]
     },
     "metadata": {},
     "output_type": "display_data"
    }
   ],
   "source": [
    "filtered_countries = df.set_index(\"title\").country.str.split(', ', expand=True).stack().reset_index(level=1, drop=True);\n",
    "filtered_countries = filtered_countries[filtered_countries != \"Country not available\"]\n",
    "plt.figure(figsize=(14,7))\n",
    "g = sns.countplot(y = filtered_countries, order=filtered_countries.value_counts().index[:10])\n",
    "plt.title(\"Top 10 Countries Contributor on Netflix\")\n",
    "plt.xlabel(\"Titles\")\n",
    "plt.ylabel(\"Country\")\n",
    "plt.show()"
   ]
  },
  {
   "cell_type": "code",
   "execution_count": 47,
   "id": "7042608a",
   "metadata": {},
   "outputs": [
    {
     "data": {
      "text/plain": [
       "United States            2818\n",
       "India                     972\n",
       "Country not available     831\n",
       "United Kingdom            419\n",
       "Japan                     245\n",
       "South Korea               199\n",
       "Canada                    181\n",
       "Spain                     145\n",
       "France                    124\n",
       "Mexico                    110\n",
       "Name: country, dtype: int64"
      ]
     },
     "execution_count": 47,
     "metadata": {},
     "output_type": "execute_result"
    }
   ],
   "source": [
    "df.country.value_counts().head(10)"
   ]
  },
  {
   "cell_type": "markdown",
   "id": "73ebd24a",
   "metadata": {},
   "source": [
    "# Top 10 Directors ON NETFLIX"
   ]
  },
  {
   "cell_type": "code",
   "execution_count": 48,
   "id": "f2096229",
   "metadata": {},
   "outputs": [
    {
     "data": {
      "image/png": "[encoded data removed]",
      "text/plain": [
       "<Figure size 1400x700 with 1 Axes>"
      ]
     },
     "metadata": {},
     "output_type": "display_data"
    }
   ],
   "source": [
    "filtered_directors = df.set_index(\"title\").director.str.split(', ', expand=True).stack().reset_index(level=1, drop=True);\n",
    "filtered_directors = filtered_directors[filtered_directors != \"Director Not Mentioned \"]\n",
    "plt.figure(figsize=(14,7))\n",
    "g = sns.countplot(y = filtered_directors, order=filtered_directors.value_counts().index[1:10])\n",
    "plt.title(\"Top 10 Directors\")\n",
    "plt.xlabel(\"Count\")\n",
    "plt.ylabel(\"Directors\")\n",
    "plt.show()"
   ]
  },
  {
   "cell_type": "code",
   "execution_count": 49,
   "id": "611fa907",
   "metadata": {},
   "outputs": [
    {
     "data": {
      "text/plain": [
       "Index(['Rajiv Chilaka', 'Raúl Campos, Jan Suter', 'Suhas Kadav',\n",
       "       'Marcus Raboy', 'Jay Karas', 'Cathy Garcia-Molina', 'Jay Chapman',\n",
       "       'Youssef Chahine', 'Martin Scorsese'],\n",
       "      dtype='object')"
      ]
     },
     "execution_count": 49,
     "metadata": {},
     "output_type": "execute_result"
    }
   ],
   "source": [
    "df[\"director\"].value_counts(normalize=False).index[1:10]"
   ]
  },
  {
   "cell_type": "code",
   "execution_count": 50,
   "id": "b506efca",
   "metadata": {},
   "outputs": [
    {
     "data": {
      "text/plain": [
       "TV-MA        3207\n",
       "TV-14        2160\n",
       "TV-PG         863\n",
       "R             799\n",
       "PG-13         490\n",
       "TV-Y7         334\n",
       "TV-Y          307\n",
       "PG            287\n",
       "TV-G          220\n",
       "NR             80\n",
       "G              41\n",
       "TV-Y7-FV        6\n",
       "Not Rated       4\n",
       "NC-17           3\n",
       "UR              3\n",
       "74 min          1\n",
       "84 min          1\n",
       "66 min          1\n",
       "Name: rating, dtype: int64"
      ]
     },
     "execution_count": 50,
     "metadata": {},
     "output_type": "execute_result"
    }
   ],
   "source": [
    "df.rating.value_counts()"
   ]
  },
  {
   "cell_type": "code",
   "execution_count": 51,
   "id": "d94aaa8b",
   "metadata": {},
   "outputs": [
    {
     "data": {
      "image/png": "[encoded data removed]",
      "text/plain": [
       "<Figure size 640x480 with 1 Axes>"
      ]
     },
     "metadata": {},
     "output_type": "display_data"
    }
   ],
   "source": [
    "sns.barplot(x=df.rating.value_counts(),y=df.rating.value_counts().index,data=df,orient=\"h\")\n",
    "plt.show()"
   ]
  },
  {
   "cell_type": "code",
   "execution_count": 52,
   "id": "62be6f8f",
   "metadata": {},
   "outputs": [
    {
     "data": {
      "image/png": "[encoded data removed]",
      "text/plain": [
       "<Figure size 1300x700 with 1 Axes>"
      ]
     },
     "metadata": {},
     "output_type": "display_data"
    }
   ],
   "source": [
    "filtered_cast_shows = df[df.cast != \"No Cast\"].set_index(\"title\").cast.str.split(\", \", expand=True).stack().reset_index(level=1, drop=True)\n",
    "plt.figure(figsize=(13,7))\n",
    "plt.title(\"Actor TV Shows Based on The Number of Titles\")\n",
    "sns.countplot(y = filtered_cast_shows, order=filtered_cast_shows.value_counts().index[:10], palette=\"pastel\")\n",
    "plt.show()"
   ]
  },
  {
   "cell_type": "code",
   "execution_count": 22,
   "id": "6f637eb3",
   "metadata": {},
   "outputs": [],
   "source": [
    "df.cast.value_counts().head(10).dropna=[\"No Cast\"]"
   ]
  },
  {
   "cell_type": "code",
   "execution_count": 23,
   "id": "bb2b17a0",
   "metadata": {},
   "outputs": [
    {
     "data": {
      "text/plain": [
       "Dramas, International Movies                        362\n",
       "Documentaries                                       359\n",
       "Stand-Up Comedy                                     334\n",
       "Comedies, Dramas, International Movies              274\n",
       "Dramas, Independent Movies, International Movies    252\n",
       "Kids' TV                                            220\n",
       "Children & Family Movies                            215\n",
       "Children & Family Movies, Comedies                  201\n",
       "Documentaries, International Movies                 186\n",
       "Dramas, International Movies, Romantic Movies       180\n",
       "Name: listed_in, dtype: int64"
      ]
     },
     "execution_count": 23,
     "metadata": {},
     "output_type": "execute_result"
    }
   ],
   "source": [
    "df.listed_in.value_counts().head(10)"
   ]
  },
  {
   "cell_type": "code",
   "execution_count": 24,
   "id": "64f16a7a",
   "metadata": {},
   "outputs": [
    {
     "data": {
      "image/png": "[encoded data removed]",
      "text/plain": [
       "<Figure size 1000x1000 with 1 Axes>"
      ]
     },
     "metadata": {},
     "output_type": "display_data"
    }
   ],
   "source": [
    "filtered_genres = df.set_index('title').listed_in.str.split(', ', expand=True).stack().reset_index(level=1, drop=True);\n",
    "plt.figure(figsize=(10,10))\n",
    "g = sns.countplot(y = filtered_genres, order=filtered_genres.value_counts().index[:20])\n",
    "plt.title('Top 20 Genres on Netflix')\n",
    "plt.xlabel('Titles')\n",
    "plt.ylabel('Genres')\n",
    "plt.show()"
   ]
  },
  {
   "cell_type": "code",
   "execution_count": 25,
   "id": "a6bb82ae",
   "metadata": {},
   "outputs": [
    {
     "data": {
      "text/plain": [
       "2018    1147\n",
       "2017    1032\n",
       "2019    1030\n",
       "2020     953\n",
       "2016     902\n",
       "2021     592\n",
       "2015     560\n",
       "2014     352\n",
       "2013     288\n",
       "2012     237\n",
       "Name: release_year, dtype: int64"
      ]
     },
     "execution_count": 25,
     "metadata": {},
     "output_type": "execute_result"
    }
   ],
   "source": [
    "df.release_year.value_counts().head(10)"
   ]
  },
  {
   "cell_type": "code",
   "execution_count": 26,
   "id": "cabb7816",
   "metadata": {},
   "outputs": [
    {
     "data": {
      "image/png": "[encoded data removed]",
      "text/plain": [
       "<Figure size 640x480 with 1 Axes>"
      ]
     },
     "metadata": {},
     "output_type": "display_data"
    }
   ],
   "source": [
    "sns.barplot(x=df.release_year.value_counts().head(10),y=df.release_year.value_counts().head(10).index,data=df,orient=\"h\")\n",
    "plt.title('Top 10 years of Netflix')\n",
    "plt.xlabel('Count')\n",
    "plt.ylabel('Year')\n",
    "\n",
    "plt.show()"
   ]
  },
  {
   "cell_type": "code",
   "execution_count": 27,
   "id": "a43fd4d5",
   "metadata": {},
   "outputs": [
    {
     "data": {
      "text/html": [
       "<div>\n",
       "<style scoped>\n",
       "    .dataframe tbody tr th:only-of-type {\n",
       "        vertical-align: middle;\n",
       "    }\n",
       "\n",
       "    .dataframe tbody tr th {\n",
       "        vertical-align: top;\n",
       "    }\n",
       "\n",
       "    .dataframe thead th {\n",
       "        text-align: right;\n",
       "    }\n",
       "</style>\n",
       "<table border=\"1\" class=\"dataframe\">\n",
       "  <thead>\n",
       "    <tr style=\"text-align: right;\">\n",
       "      <th></th>\n",
       "      <th>show_id</th>\n",
       "      <th>type</th>\n",
       "      <th>title</th>\n",
       "      <th>director</th>\n",
       "      <th>cast</th>\n",
       "      <th>country</th>\n",
       "      <th>date_added</th>\n",
       "      <th>release_year</th>\n",
       "      <th>rating</th>\n",
       "      <th>duration</th>\n",
       "      <th>listed_in</th>\n",
       "      <th>description</th>\n",
       "    </tr>\n",
       "  </thead>\n",
       "  <tbody>\n",
       "    <tr>\n",
       "      <th>0</th>\n",
       "      <td>s1</td>\n",
       "      <td>Movie</td>\n",
       "      <td>Dick Johnson Is Dead</td>\n",
       "      <td>Kirsten Johnson</td>\n",
       "      <td>No Cast</td>\n",
       "      <td>United States</td>\n",
       "      <td>September 25, 2021</td>\n",
       "      <td>2020</td>\n",
       "      <td>PG-13</td>\n",
       "      <td>90 min</td>\n",
       "      <td>Documentaries</td>\n",
       "      <td>As her father nears the end of his life, filmm...</td>\n",
       "    </tr>\n",
       "    <tr>\n",
       "      <th>6</th>\n",
       "      <td>s7</td>\n",
       "      <td>Movie</td>\n",
       "      <td>My Little Pony: A New Generation</td>\n",
       "      <td>Robert Cullen, José Luis Ucha</td>\n",
       "      <td>Vanessa Hudgens, Kimiko Glenn, James Marsden, ...</td>\n",
       "      <td>Country not available</td>\n",
       "      <td>September 24, 2021</td>\n",
       "      <td>2021</td>\n",
       "      <td>PG</td>\n",
       "      <td>91 min</td>\n",
       "      <td>Children &amp; Family Movies</td>\n",
       "      <td>Equestria's divided. But a bright-eyed hero be...</td>\n",
       "    </tr>\n",
       "    <tr>\n",
       "      <th>7</th>\n",
       "      <td>s8</td>\n",
       "      <td>Movie</td>\n",
       "      <td>Sankofa</td>\n",
       "      <td>Haile Gerima</td>\n",
       "      <td>Kofi Ghanaba, Oyafunmike Ogunlano, Alexandra D...</td>\n",
       "      <td>United States, Ghana, Burkina Faso, United Kin...</td>\n",
       "      <td>September 24, 2021</td>\n",
       "      <td>1993</td>\n",
       "      <td>TV-MA</td>\n",
       "      <td>125 min</td>\n",
       "      <td>Dramas, Independent Movies, International Movies</td>\n",
       "      <td>On a photo shoot in Ghana, an American model s...</td>\n",
       "    </tr>\n",
       "  </tbody>\n",
       "</table>\n",
       "</div>"
      ],
      "text/plain": [
       "  show_id   type                             title  \\\n",
       "0      s1  Movie              Dick Johnson Is Dead   \n",
       "6      s7  Movie  My Little Pony: A New Generation   \n",
       "7      s8  Movie                           Sankofa   \n",
       "\n",
       "                        director  \\\n",
       "0                Kirsten Johnson   \n",
       "6  Robert Cullen, José Luis Ucha   \n",
       "7                   Haile Gerima   \n",
       "\n",
       "                                                cast  \\\n",
       "0                                            No Cast   \n",
       "6  Vanessa Hudgens, Kimiko Glenn, James Marsden, ...   \n",
       "7  Kofi Ghanaba, Oyafunmike Ogunlano, Alexandra D...   \n",
       "\n",
       "                                             country          date_added  \\\n",
       "0                                      United States  September 25, 2021   \n",
       "6                              Country not available  September 24, 2021   \n",
       "7  United States, Ghana, Burkina Faso, United Kin...  September 24, 2021   \n",
       "\n",
       "   release_year rating duration  \\\n",
       "0          2020  PG-13   90 min   \n",
       "6          2021     PG   91 min   \n",
       "7          1993  TV-MA  125 min   \n",
       "\n",
       "                                          listed_in  \\\n",
       "0                                     Documentaries   \n",
       "6                          Children & Family Movies   \n",
       "7  Dramas, Independent Movies, International Movies   \n",
       "\n",
       "                                         description  \n",
       "0  As her father nears the end of his life, filmm...  \n",
       "6  Equestria's divided. But a bright-eyed hero be...  \n",
       "7  On a photo shoot in Ghana, an American model s...  "
      ]
     },
     "execution_count": 27,
     "metadata": {},
     "output_type": "execute_result"
    }
   ],
   "source": [
    "movie_df=df.loc[(df[\"type\"]==\"Movie\")]\n",
    "movie_df.head(3)"
   ]
  },
  {
   "cell_type": "code",
   "execution_count": 28,
   "id": "57503a44",
   "metadata": {},
   "outputs": [
    {
     "data": {
      "text/html": [
       "<div>\n",
       "<style scoped>\n",
       "    .dataframe tbody tr th:only-of-type {\n",
       "        vertical-align: middle;\n",
       "    }\n",
       "\n",
       "    .dataframe tbody tr th {\n",
       "        vertical-align: top;\n",
       "    }\n",
       "\n",
       "    .dataframe thead th {\n",
       "        text-align: right;\n",
       "    }\n",
       "</style>\n",
       "<table border=\"1\" class=\"dataframe\">\n",
       "  <thead>\n",
       "    <tr style=\"text-align: right;\">\n",
       "      <th></th>\n",
       "      <th>show_id</th>\n",
       "      <th>type</th>\n",
       "      <th>title</th>\n",
       "      <th>director</th>\n",
       "      <th>cast</th>\n",
       "      <th>country</th>\n",
       "      <th>date_added</th>\n",
       "      <th>release_year</th>\n",
       "      <th>rating</th>\n",
       "      <th>duration</th>\n",
       "      <th>listed_in</th>\n",
       "      <th>description</th>\n",
       "    </tr>\n",
       "  </thead>\n",
       "  <tbody>\n",
       "    <tr>\n",
       "      <th>1</th>\n",
       "      <td>s2</td>\n",
       "      <td>TV Show</td>\n",
       "      <td>Blood &amp; Water</td>\n",
       "      <td>Director Not Mentioned</td>\n",
       "      <td>Ama Qamata, Khosi Ngema, Gail Mabalane, Thaban...</td>\n",
       "      <td>South Africa</td>\n",
       "      <td>September 24, 2021</td>\n",
       "      <td>2021</td>\n",
       "      <td>TV-MA</td>\n",
       "      <td>2 Seasons</td>\n",
       "      <td>International TV Shows, TV Dramas, TV Mysteries</td>\n",
       "      <td>After crossing paths at a party, a Cape Town t...</td>\n",
       "    </tr>\n",
       "    <tr>\n",
       "      <th>2</th>\n",
       "      <td>s3</td>\n",
       "      <td>TV Show</td>\n",
       "      <td>Ganglands</td>\n",
       "      <td>Julien Leclercq</td>\n",
       "      <td>Sami Bouajila, Tracy Gotoas, Samuel Jouy, Nabi...</td>\n",
       "      <td>Country not available</td>\n",
       "      <td>September 24, 2021</td>\n",
       "      <td>2021</td>\n",
       "      <td>TV-MA</td>\n",
       "      <td>1 Season</td>\n",
       "      <td>Crime TV Shows, International TV Shows, TV Act...</td>\n",
       "      <td>To protect his family from a powerful drug lor...</td>\n",
       "    </tr>\n",
       "    <tr>\n",
       "      <th>3</th>\n",
       "      <td>s4</td>\n",
       "      <td>TV Show</td>\n",
       "      <td>Jailbirds New Orleans</td>\n",
       "      <td>Director Not Mentioned</td>\n",
       "      <td>No Cast</td>\n",
       "      <td>Country not available</td>\n",
       "      <td>September 24, 2021</td>\n",
       "      <td>2021</td>\n",
       "      <td>TV-MA</td>\n",
       "      <td>1 Season</td>\n",
       "      <td>Docuseries, Reality TV</td>\n",
       "      <td>Feuds, flirtations and toilet talk go down amo...</td>\n",
       "    </tr>\n",
       "  </tbody>\n",
       "</table>\n",
       "</div>"
      ],
      "text/plain": [
       "  show_id     type                  title                director  \\\n",
       "1      s2  TV Show          Blood & Water  Director Not Mentioned   \n",
       "2      s3  TV Show              Ganglands         Julien Leclercq   \n",
       "3      s4  TV Show  Jailbirds New Orleans  Director Not Mentioned   \n",
       "\n",
       "                                                cast                country  \\\n",
       "1  Ama Qamata, Khosi Ngema, Gail Mabalane, Thaban...           South Africa   \n",
       "2  Sami Bouajila, Tracy Gotoas, Samuel Jouy, Nabi...  Country not available   \n",
       "3                                            No Cast  Country not available   \n",
       "\n",
       "           date_added  release_year rating   duration  \\\n",
       "1  September 24, 2021          2021  TV-MA  2 Seasons   \n",
       "2  September 24, 2021          2021  TV-MA   1 Season   \n",
       "3  September 24, 2021          2021  TV-MA   1 Season   \n",
       "\n",
       "                                           listed_in  \\\n",
       "1    International TV Shows, TV Dramas, TV Mysteries   \n",
       "2  Crime TV Shows, International TV Shows, TV Act...   \n",
       "3                             Docuseries, Reality TV   \n",
       "\n",
       "                                         description  \n",
       "1  After crossing paths at a party, a Cape Town t...  \n",
       "2  To protect his family from a powerful drug lor...  \n",
       "3  Feuds, flirtations and toilet talk go down amo...  "
      ]
     },
     "execution_count": 28,
     "metadata": {},
     "output_type": "execute_result"
    }
   ],
   "source": [
    "show_df=df.loc[(df[\"type\"]==\"TV Show\")]\n",
    "show_df.head(3)"
   ]
  },
  {
   "cell_type": "markdown",
   "id": "1ddd3aed",
   "metadata": {},
   "source": [
    "# TO DO ANY QUARY ON DURATION FILED WE HAVE TO CHANGE THE CLOUMN TYPE TO INTEGER AS ITS COMBINATION OF BOTH INT AND STR"
   ]
  },
  {
   "cell_type": "code",
   "execution_count": 29,
   "id": "de20176e",
   "metadata": {},
   "outputs": [],
   "source": [
    "df[[\"minutes\",\"unit\"]]=df['duration'].str.split(\" \",expand=True)"
   ]
  },
  {
   "cell_type": "code",
   "execution_count": 30,
   "id": "66d3ed91",
   "metadata": {},
   "outputs": [],
   "source": [
    "df = df.astype({'minutes':'float'})"
   ]
  },
  {
   "cell_type": "markdown",
   "id": "fc72fe7f",
   "metadata": {},
   "source": [
    "# SO WO MAKE TWO CLOUMNS BY SEPERATING THE VALUES WITH A SPACE(\" \") AND STORING THE INT PART AS MINUTES AND MIN/SEASONS PART AS UNIT.\n",
    "FOR EXAMPLE 2 MIN IS SEPEARTED AND STORED IN MINUTES UNIT\n",
    "            2 MIN=                             2     MIN\n",
    "            2 SEASONS=                         2     SEASONS"
   ]
  },
  {
   "cell_type": "code",
   "execution_count": 31,
   "id": "2701cbe3",
   "metadata": {},
   "outputs": [
    {
     "data": {
      "text/html": [
       "<div>\n",
       "<style scoped>\n",
       "    .dataframe tbody tr th:only-of-type {\n",
       "        vertical-align: middle;\n",
       "    }\n",
       "\n",
       "    .dataframe tbody tr th {\n",
       "        vertical-align: top;\n",
       "    }\n",
       "\n",
       "    .dataframe thead th {\n",
       "        text-align: right;\n",
       "    }\n",
       "</style>\n",
       "<table border=\"1\" class=\"dataframe\">\n",
       "  <thead>\n",
       "    <tr style=\"text-align: right;\">\n",
       "      <th></th>\n",
       "      <th>show_id</th>\n",
       "      <th>type</th>\n",
       "      <th>title</th>\n",
       "      <th>director</th>\n",
       "      <th>cast</th>\n",
       "      <th>country</th>\n",
       "      <th>date_added</th>\n",
       "      <th>release_year</th>\n",
       "      <th>rating</th>\n",
       "      <th>duration</th>\n",
       "      <th>listed_in</th>\n",
       "      <th>description</th>\n",
       "      <th>minutes</th>\n",
       "      <th>unit</th>\n",
       "    </tr>\n",
       "  </thead>\n",
       "  <tbody>\n",
       "    <tr>\n",
       "      <th>4253</th>\n",
       "      <td>s4254</td>\n",
       "      <td>Movie</td>\n",
       "      <td>Black Mirror: Bandersnatch</td>\n",
       "      <td>Director Not Mentioned</td>\n",
       "      <td>Fionn Whitehead, Will Poulter, Craig Parkinson...</td>\n",
       "      <td>United States</td>\n",
       "      <td>December 28, 2018</td>\n",
       "      <td>2018</td>\n",
       "      <td>TV-MA</td>\n",
       "      <td>312 min</td>\n",
       "      <td>Dramas, International Movies, Sci-Fi &amp; Fantasy</td>\n",
       "      <td>In 1984, a young programmer begins to question...</td>\n",
       "      <td>312.0</td>\n",
       "      <td>min</td>\n",
       "    </tr>\n",
       "  </tbody>\n",
       "</table>\n",
       "</div>"
      ],
      "text/plain": [
       "     show_id   type                       title                director  \\\n",
       "4253   s4254  Movie  Black Mirror: Bandersnatch  Director Not Mentioned   \n",
       "\n",
       "                                                   cast        country  \\\n",
       "4253  Fionn Whitehead, Will Poulter, Craig Parkinson...  United States   \n",
       "\n",
       "             date_added  release_year rating duration  \\\n",
       "4253  December 28, 2018          2018  TV-MA  312 min   \n",
       "\n",
       "                                           listed_in  \\\n",
       "4253  Dramas, International Movies, Sci-Fi & Fantasy   \n",
       "\n",
       "                                            description  minutes unit  \n",
       "4253  In 1984, a young programmer begins to question...    312.0  min  "
      ]
     },
     "execution_count": 31,
     "metadata": {},
     "output_type": "execute_result"
    }
   ],
   "source": [
    "df.loc[df['minutes'] == df.minutes.max()]"
   ]
  },
  {
   "cell_type": "markdown",
   "id": "da5c6b0f",
   "metadata": {},
   "source": [
    "# movie with max duration is \"Black Mirror: Bandersnatch\""
   ]
  },
  {
   "cell_type": "code",
   "execution_count": 32,
   "id": "f0595f28",
   "metadata": {},
   "outputs": [
    {
     "data": {
      "text/plain": [
       "count    8804.000000\n",
       "mean       69.846888\n",
       "std        50.814828\n",
       "min         1.000000\n",
       "25%         2.000000\n",
       "50%        88.000000\n",
       "75%       106.000000\n",
       "max       312.000000\n",
       "Name: minutes, dtype: float64"
      ]
     },
     "execution_count": 32,
     "metadata": {},
     "output_type": "execute_result"
    }
   ],
   "source": [
    "df.minutes.describe()"
   ]
  },
  {
   "cell_type": "code",
   "execution_count": 33,
   "id": "1500c066",
   "metadata": {},
   "outputs": [
    {
     "data": {
      "text/html": [
       "<div>\n",
       "<style scoped>\n",
       "    .dataframe tbody tr th:only-of-type {\n",
       "        vertical-align: middle;\n",
       "    }\n",
       "\n",
       "    .dataframe tbody tr th {\n",
       "        vertical-align: top;\n",
       "    }\n",
       "\n",
       "    .dataframe thead th {\n",
       "        text-align: right;\n",
       "    }\n",
       "</style>\n",
       "<table border=\"1\" class=\"dataframe\">\n",
       "  <thead>\n",
       "    <tr style=\"text-align: right;\">\n",
       "      <th></th>\n",
       "      <th>show_id</th>\n",
       "      <th>type</th>\n",
       "      <th>title</th>\n",
       "      <th>director</th>\n",
       "      <th>cast</th>\n",
       "      <th>country</th>\n",
       "      <th>date_added</th>\n",
       "      <th>release_year</th>\n",
       "      <th>rating</th>\n",
       "      <th>duration</th>\n",
       "      <th>listed_in</th>\n",
       "      <th>description</th>\n",
       "      <th>minutes</th>\n",
       "      <th>unit</th>\n",
       "    </tr>\n",
       "  </thead>\n",
       "  <tbody>\n",
       "    <tr>\n",
       "      <th>3777</th>\n",
       "      <td>s3778</td>\n",
       "      <td>Movie</td>\n",
       "      <td>Silent</td>\n",
       "      <td>Limbert Fabian, Brandon Oldenburg</td>\n",
       "      <td>No Cast</td>\n",
       "      <td>United States</td>\n",
       "      <td>June 4, 2019</td>\n",
       "      <td>2014</td>\n",
       "      <td>TV-Y</td>\n",
       "      <td>3 min</td>\n",
       "      <td>Children &amp; Family Movies, Sci-Fi &amp; Fantasy</td>\n",
       "      <td>\"Silent\" is an animated short film created by ...</td>\n",
       "      <td>3.0</td>\n",
       "      <td>min</td>\n",
       "    </tr>\n",
       "  </tbody>\n",
       "</table>\n",
       "</div>"
      ],
      "text/plain": [
       "     show_id   type   title                           director     cast  \\\n",
       "3777   s3778  Movie  Silent  Limbert Fabian, Brandon Oldenburg  No Cast   \n",
       "\n",
       "            country    date_added  release_year rating duration  \\\n",
       "3777  United States  June 4, 2019          2014   TV-Y    3 min   \n",
       "\n",
       "                                       listed_in  \\\n",
       "3777  Children & Family Movies, Sci-Fi & Fantasy   \n",
       "\n",
       "                                            description  minutes unit  \n",
       "3777  \"Silent\" is an animated short film created by ...      3.0  min  "
      ]
     },
     "execution_count": 33,
     "metadata": {},
     "output_type": "execute_result"
    }
   ],
   "source": [
    "df.loc[(df['minutes'] <= 3) & (df['unit'] == \"min\")]"
   ]
  },
  {
   "cell_type": "markdown",
   "id": "dd5c2251",
   "metadata": {},
   "source": [
    "# movie with min duration is \"SILENT\" is an animated short film "
   ]
  },
  {
   "cell_type": "code",
   "execution_count": 34,
   "id": "5507feb9",
   "metadata": {},
   "outputs": [
    {
     "ename": "SyntaxError",
     "evalue": "invalid syntax (4220855275.py, line 1)",
     "output_type": "error",
     "traceback": [
      "\u001b[1;36m  Cell \u001b[1;32mIn[34], line 1\u001b[1;36m\u001b[0m\n\u001b[1;33m    df.loc[(df['minutes'] >=) & (df['unit'] == \"Seasons\")]\u001b[0m\n\u001b[1;37m                            ^\u001b[0m\n\u001b[1;31mSyntaxError\u001b[0m\u001b[1;31m:\u001b[0m invalid syntax\n"
     ]
    }
   ],
   "source": [
    "df.loc[(df['minutes'] >=) & (df['unit'] == \"Seasons\")]"
   ]
  },
  {
   "cell_type": "markdown",
   "id": "b263a4b5",
   "metadata": {},
   "source": [
    "# show with max seasons is \"Grey's Anatomy\" with 17 seasons"
   ]
  },
  {
   "cell_type": "code",
   "execution_count": null,
   "id": "e1cdccc7",
   "metadata": {},
   "outputs": [],
   "source": []
  }
 ],
 "metadata": {
  "kernelspec": {
   "display_name": "Python 3 (ipykernel)",
   "language": "python",
   "name": "python3"
  },
  "language_info": {
   "codemirror_mode": {
    "name": "ipython",
    "version": 3
   },
   "file_extension": ".py",
   "mimetype": "text/x-python",
   "name": "python",
   "nbconvert_exporter": "python",
   "pygments_lexer": "ipython3",
   "version": "3.10.9"
  }
 },
 "nbformat": 4,
 "nbformat_minor": 5
}
